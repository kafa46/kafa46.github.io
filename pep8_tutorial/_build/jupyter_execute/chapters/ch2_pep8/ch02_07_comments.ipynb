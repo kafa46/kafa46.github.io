{
 "cells": [
  {
   "cell_type": "markdown",
   "metadata": {},
   "source": [
    "# Comments (주석)"
   ]
  },
  {
   "cell_type": "markdown",
   "metadata": {},
   "source": [
    "코드의 실행과 모순되는 주석은 없는 것보다 못합니다. 그리고 코드를 변경할 경우 주석을 항상 업데이트 해야 합니다.\n",
    "\n",
    "코드의 실행과 모순되는 주석은 다음과 같은 예를 들 수 있습니다."
   ]
  },
  {
   "cell_type": "markdown",
   "metadata": {},
   "source": [
    "- 더하기 연산을 실행하는 함수에 빼기 함수라고 주석을 다는 경우"
   ]
  },
  {
   "cell_type": "code",
   "execution_count": null,
   "metadata": {},
   "outputs": [],
   "source": [
    "# Substract two integers\n",
    "def add(a, b):\n",
    "    return a + b"
   ]
  },
  {
   "cell_type": "markdown",
   "metadata": {},
   "source": [
    "주석은 반드시 하나의 완성된 문장이어야 합니다. 첫 글자가 소문자로 시작하는 고유 식별자가 아니라면 주석의 첫 글자는 대문자를 사용합니다. 문장의 시작하는 첫 글자는 대문자라는 영어 문법을 생각하면 이해가 쉽게 됩니다.\n",
    "\n",
    "블록 주석은 하나 이상의 문단으로 구성합니다. 각 문단은 완전한 문장으로 구성되어야 합니다. 그리고 각 문장이 끝날때 마침표를 찍어줍니다. 이것도 영어 문법과 동일합니다.\n",
    "\n",
    "여러 문장으로 구성된 주석을 연속적으로 구성할 경우 각 문장이 끝나면 2줄 공백을 주는 것이 좋습니다.\n",
    "\n",
    "여러분이 작성한 주석은 다른 사람들이 쉽게 이해할 수 있도록 작성해야 합니다. 본인 혼자만 알아볼 수 있는 알송달송한 단어나 기호를 사용하는 것은 매우 나쁜 주석입니다."
   ]
  },
  {
   "cell_type": "markdown",
   "metadata": {},
   "source": [
    "```{admonition} 영어를 사용하지 않는 개발자들에게 PEP에서 전하는 말\n",
    "제발 주석은 영어로 작성해 주세요.\n",
    "\n",
    "여러분의 모국어를 아는 사람들만 코드를 읽고 이해할 수 있습니다.\n",
    "\n",
    "영어로 작성하지 않은 코드는 읽혀지지 않을 확률이 120% 입니다. ㅠㅠ\n",
    "```"
   ]
  },
  {
   "cell_type": "markdown",
   "metadata": {},
   "source": [
    "## Block Comments (블록 주석)"
   ]
  },
  {
   "cell_type": "markdown",
   "metadata": {},
   "source": [
    "블록 주석은 코드와 동일한 들여쓰기 위치에 씁니다. 블록 주석은 당연히 코드와 연관된 주변(관련 코드 직전 또는 바로 다음 위치)에 작성합니다.\n",
    "\n",
    "블록 주석의 개별 문장들은 # 표시로 시작하고 한칸 공백을 준 다음 주석을 작성합니다. \n",
    "\n",
    "문단 내에서 주석 내용을 구분해야 하는 경우 (블록 주석에서 문단이 2개 이상인 경우)는 # 하나만으로 주석을 만들고 새로운 문단에 해당하는 블록 주석을 작성합니다."
   ]
  },
  {
   "cell_type": "markdown",
   "metadata": {},
   "source": [
    "## Inline Comments (문장 내 주석)"
   ]
  },
  {
   "cell_type": "markdown",
   "metadata": {},
   "source": [
    "문장내 주석은 꼭 필요한 경우에만 사용하도록 합니다.\n",
    "\n",
    "문장내 주석은 말 그대로 명령어와 주석을 한 줄에 같이 사용하는 주석입니다. 문장 내 주석은 문장(statemnt, 명령어)와 2칸 이상의 공백으로 분리하고 # 표시로 시작합니다.\n",
    "\n",
    "문장 내 주석은 너무나 자명한 경우에는 사용하지 않는 것이 좋습니다."
   ]
  },
  {
   "cell_type": "markdown",
   "metadata": {},
   "source": [
    "- 다음은 $x$ 값을 1 만큼 증가시키는 코드입니다. 굳이 주석이 필요없는 경우입니다."
   ]
  },
  {
   "cell_type": "code",
   "execution_count": null,
   "metadata": {},
   "outputs": [],
   "source": [
    "x = x + 1  # Increment x"
   ]
  },
  {
   "cell_type": "markdown",
   "metadata": {},
   "source": [
    "- 아래와 같은 경우는 값을 증가시키더라도 내부적 의미를 가지고 있다면 사용해도 됩니다"
   ]
  },
  {
   "cell_type": "code",
   "execution_count": null,
   "metadata": {},
   "outputs": [],
   "source": [
    "x = x + 1  # Compensate for border"
   ]
  },
  {
   "cell_type": "markdown",
   "metadata": {},
   "source": [
    "## Document Strings (설명문)"
   ]
  },
  {
   "cell_type": "markdown",
   "metadata": {},
   "source": [
    "Document string은 줄여서 docstring이라고 부르기도 합니다. Docstring은 [PEP 257 Docstring Conventions](https://www.python.org/dev/peps/pep-0257/)에 별도로 정의되어 있습니다. Docstring은 모듈, 함수, 클래스 또는 메서드를 설명할때 사용합니다. VS Code와 같은 편집기에서 함수나 클래스 이름을 클릭하면 호버링 되거나 팝업되는 설명이 바로 docstring 입니다. 파이썬의 멋진 기능 중 하나입니다. "
   ]
  },
  {
   "cell_type": "markdown",
   "metadata": {},
   "source": [
    "- PEP 257은 모든 퍼블릭 모듈, 함수, 클래스, 메서드에 작성할 것을 권고하고 있습니다. Non-public (비공개 또는 은닉) 메서드에는 docstring을 작성하지 않아도 됩니다. 하지만 해당 메서드가 하는 역할에 대해서는 docstring으로 작성해 놓아야 합니다.\n",
    "\n",
    "- Docstring은 def 선언이 있는 바로 다음 줄에 나와야 합니다.\n",
    "\n",
    "- Docstring은 큰 따옴표 3개 ( \"\"\" ) 또는 작은 따옴표 3개 ( ''' )를 사용하여 정의합니다.\n",
    "\n",
    "- Docstring이 여러 줄에 걸쳐 작성될 경우 마지막은 따옴표 3개만 나오도록 작성합니다."
   ]
  },
  {
   "cell_type": "markdown",
   "metadata": {},
   "source": [
    "- 여러줄에 걸친 docstring 예"
   ]
  },
  {
   "cell_type": "code",
   "execution_count": null,
   "metadata": {},
   "outputs": [],
   "source": [
    "def foo():\n",
    "    \"\"\"Return a foobang\n",
    "    Optional plotz says to frobnicate the bizbaz first.\n",
    "    \"\"\"\n",
    "    your_code\n",
    "        :"
   ]
  },
  {
   "cell_type": "markdown",
   "metadata": {},
   "source": [
    "- 한 줄짜리 docstring 예"
   ]
  },
  {
   "cell_type": "code",
   "execution_count": null,
   "metadata": {},
   "outputs": [],
   "source": [
    "def foo():\n",
    "    \"\"\"Return a foobang\"\"\"\n",
    "    your_code\n",
    "        :"
   ]
  },
  {
   "cell_type": "markdown",
   "metadata": {},
   "source": [
    "---"
   ]
  }
 ],
 "metadata": {
  "language_info": {
   "name": "python"
  }
 },
 "nbformat": 4,
 "nbformat_minor": 2
}