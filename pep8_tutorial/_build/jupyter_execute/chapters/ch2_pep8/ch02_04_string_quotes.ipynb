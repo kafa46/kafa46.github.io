{
 "cells": [
  {
   "cell_type": "markdown",
   "metadata": {},
   "source": [
    "# String Quotes (문자열 따옴표 사용)"
   ]
  },
  {
   "cell_type": "markdown",
   "metadata": {},
   "source": [
    "파이썬 문자열 처리에서 활용하는 작은 따옴표( ' )와 큰 따옴표( \" )는 아무런 차이가 없습니다. PEP 8에서는 따옴표 사용에 대한 어떠한 추천 사항도 없습니다. 개발자 각자 문자열 처리에서 따옴표를 사용하는 규칙(습관)을 정하고 일관성 있게 사용하는 것이 중요합니다."
   ]
  },
  {
   "cell_type": "markdown",
   "metadata": {},
   "source": [
    "하나의 문장에서 작은 따옴표나 큰 따옴표를 사용할 경우 서로 다른 따옴표를 사용하는 것이 좋습니다. 동일한 따옴표를 사용할 경우 백슬래시( \\ )를 사용해야 하므로 가독성을 떨어뜨릴 수 있습니다."
   ]
  },
  {
   "cell_type": "markdown",
   "metadata": {},
   "source": [
    "아래 코드는 정확히 같은 역할을 합니다."
   ]
  },
  {
   "cell_type": "markdown",
   "metadata": {},
   "source": [
    "- 동일한 따옴표를 사용한 예"
   ]
  },
  {
   "cell_type": "code",
   "execution_count": 1,
   "metadata": {},
   "outputs": [
    {
     "name": "stdout",
     "output_type": "stream",
     "text": [
      "오늘의 메뉴는 '갈비탕' 입니다.\n"
     ]
    }
   ],
   "source": [
    "print('오늘의 메뉴는 \\'갈비탕\\' 입니다.')"
   ]
  },
  {
   "cell_type": "markdown",
   "metadata": {},
   "source": [
    "- 문자열 처리에서 서로 다른 따옴표를 혼합한 예"
   ]
  },
  {
   "cell_type": "code",
   "execution_count": 2,
   "metadata": {},
   "outputs": [
    {
     "name": "stdout",
     "output_type": "stream",
     "text": [
      "오늘의 메뉴는 '갈비탕' 입니다.\n"
     ]
    }
   ],
   "source": [
    "print(\"오늘의 메뉴는 '갈비탕' 입니다.\")"
   ]
  },
  {
   "cell_type": "code",
   "execution_count": 3,
   "metadata": {},
   "outputs": [
    {
     "name": "stdout",
     "output_type": "stream",
     "text": [
      "오늘의 메뉴는 \"갈비탕\" 입니다.\n"
     ]
    }
   ],
   "source": [
    "print('오늘의 메뉴는 \"갈비탕\" 입니다.')"
   ]
  },
  {
   "cell_type": "markdown",
   "metadata": {},
   "source": [
    "동일한 결과를 얻는 코드지만 두 번째, 세 번째 예제가 가독성이 더 높아집니다. "
   ]
  },
  {
   "cell_type": "markdown",
   "metadata": {},
   "source": [
    "따옴표 세 개를 사용하는 트리플 따옴표(triple quote, ''')의 내부에서 인용을 하는 경우는 쌍따옴표를 사용하는 것이 좋습니다. 왜냐하면 docstring 컨벤션인 [PEP 257](https://www.python.org/dev/peps/pep-0257/)에서 이미 정의한 내용이기 때문입니다. 어떤 함수의 docstring에서 따옴표를 사용하는 예를 들면 다음과 같습니다."
   ]
  },
  {
   "cell_type": "code",
   "execution_count": null,
   "metadata": {},
   "outputs": [],
   "source": [
    "def complex(real=0.0, imag=0.0):\n",
    "    \"\"\"Form a complex number.\n",
    "    Keyword arguments:\n",
    "    real -- the real part (default 0.0)\n",
    "    \"이 부분은 쌍따옴표를 썼습니다.\"\n",
    "    imag -- the imaginary part (default 0.0)\n",
    "    \n",
    "    \"\"\"\n",
    "    if imag == 0.0 and real == 0.0:\n",
    "        return complex_zero\n",
    "    ..."
   ]
  },
  {
   "cell_type": "code",
   "execution_count": null,
   "metadata": {},
   "outputs": [],
   "source": []
  }
 ],
 "metadata": {
  "kernelspec": {
   "display_name": "Python 3",
   "language": "python",
   "name": "python3"
  },
  "language_info": {
   "codemirror_mode": {
    "name": "ipython",
    "version": 3
   },
   "file_extension": ".py",
   "mimetype": "text/x-python",
   "name": "python",
   "nbconvert_exporter": "python",
   "pygments_lexer": "ipython3",
   "version": "3.8.5"
  }
 },
 "nbformat": 4,
 "nbformat_minor": 4
}