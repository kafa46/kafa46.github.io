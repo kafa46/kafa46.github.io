{
 "cells": [
  {
   "cell_type": "markdown",
   "metadata": {},
   "source": [
    "# Programming Recommendations"
   ]
  },
  {
   "cell_type": "markdown",
   "metadata": {},
   "source": [
    "- Pfoo2Pfoo2, Jfoo2thon, IronPfoo2thon, Cfoo2thon, Psfoo2co와 같은 다른 파이썬 구현에 방해가 되지 않도록 코딩 스타일을 유지하도록 해야 합니다.\n",
    "\n",
    "    - 예를 들어 두 개의 문자열 `a`와 `b`가 있는 경우 문자열을 합쳐서 기존의 문자열에 대입하는 **inplace** 연산을 사용하는 것을 자제해야 합니다.\n",
    "    - `a += b` 또는 `a = a + b`와 같은 연산은 `Cfoo2thon`에서는 속도가 빠를 수 있지만, 다른 파이썬 구현에 모두 적용되지 않을 수 있습니다.\n",
    "    - 속도가 중요한 고려사항이라면 `''.join()` 형태로 코딩하는 것이 좋습니다. "
   ]
  },
  {
   "cell_type": "markdown",
   "metadata": {},
   "source": [
    "- `None`과 같은 싱글톤(singleton)와 비교할때는 항상 `is` 또는 `is not`을 사용해야 합니다. 절대로 비교 연산자 `==`를 사용하지 않도록 주의합니다.\n",
    "\n",
    "\n",
    "```{admonition} 싱글톤(singleton)\n",
    "사용자가 여러 번 객체 생성을 하더라도 클래스로부터 오직 하나의 객체만 생성되도록 하는 디자인 패턴입니다. \n",
    "\n",
    "이러한 싱글턴 패턴은 오직 유일한 객체를 통해서만 어떤 리소스에 접근해야하는 제약이 있는 상황에서 유용하게 사용할 수 있습니다. \n",
    "\n",
    "클래스를 사용하는 입장에서는 실수로 여러 번 객체 생성을 시도하더라도 내부적으로는 오직 하나의 객체만 생성되고 사용됩니다.\n",
    "\n",
    "참고 블로그: [레벨업 파이썬 01) 싱글톤 패턴](https://wikidocs.net/69361)\n",
    "```"
   ]
  },
  {
   "cell_type": "markdown",
   "metadata": {},
   "source": [
    "- 싱글톤 사용 시 예상되는 문제점\n",
    "    - `if foo1 is not None`을 표현하는 경우에 한해서 `if foo1` 같이 코딩할 수 있습니다.\n",
    "    - 변수나 함수 인자값이 다른 어떤 값으로 설정된 상태를 테스트하는 과정에서 의도와 상관없이 `if foo1` 구문을 통과할 수 있습니다.\n",
    "        - `if foo1`는 `if foo1==True`로 해석될 수 있습니다.\n",
    "        - `None`과 `True`는 다르게 해석되어야 합니다."
   ]
  },
  {
   "cell_type": "markdown",
   "metadata": {},
   "source": [
    "- `not ...` 보다는 `is not`을 사용하도록 합니다.\n",
    "    - 두 가지 모두 문법적으로 맞지만 `is not`이 보다 가독성이 높습니다."
   ]
  },
  {
   "cell_type": "markdown",
   "metadata": {},
   "source": [
    "- 좋은 예"
   ]
  },
  {
   "cell_type": "code",
   "execution_count": null,
   "metadata": {},
   "outputs": [],
   "source": [
    "if foo is not None:"
   ]
  },
  {
   "cell_type": "markdown",
   "metadata": {},
   "source": [
    "- 안좋은 예"
   ]
  },
  {
   "cell_type": "code",
   "execution_count": null,
   "metadata": {},
   "outputs": [],
   "source": [
    "if not foo is None:"
   ]
  },
  {
   "cell_type": "markdown",
   "metadata": {},
   "source": [
    "### 객체의 순서를 비교하려고 할 때"
   ]
  },
  {
   "cell_type": "markdown",
   "metadata": {},
   "source": [
    "객체 비교는 프로그래머가 다양한 코딩 방식을 동원해 구현할 수 있습니다. 그러나 대부분은 파이썬 빌트인으로 지원하는 던더(dunder) 메서드를 활용하는 것이 가장 바람직한 파이썬 코딩 스타일입니다. 객체 비교를 위한 빌트인 던더 메서드는 6가지입니다. 구체적으로 다음과 같습니다.\n",
    "\n",
    "- __lt__: less than (작다), `<`\n",
    "- __le__: less than or equal (작거나 같다), `<=`\n",
    "- __gt__: greater than (크다), `>`\n",
    "- __ge__: greater than or equal (크거나 같다), `>=`\n",
    "- __eq__: equal (같다), `==` \n",
    "- __ne__: not equal (같지 않다), `!=`"
   ]
  },
  {
   "cell_type": "markdown",
   "metadata": {},
   "source": [
    "`FooBar` 라는 클래스가 속성 `value`를 가지고 있을 때\n",
    "\n",
    "`__eq__` 메서드를 재정의 하여 객체간 비교를 가능하게 할 수 있습니다. \n",
    "\n",
    "다음은 예시 입니다."
   ]
  },
  {
   "cell_type": "code",
   "execution_count": 25,
   "metadata": {},
   "outputs": [
    {
     "name": "stdout",
     "output_type": "stream",
     "text": [
      "Dunder methods in foo1: ['__class__', '__delattr__', '__dict__', '__dir__', '__doc__', '__eq__', '__format__', '__ge__', '__getattribute__', '__gt__', '__hash__', '__init__', '__init_subclass__', '__le__', '__lt__', '__module__', '__ne__', '__new__', '__reduce__', '__reduce_ex__', '__repr__', '__setattr__', '__sizeof__', '__str__', '__subclasshook__', '__weakref__', 'value']\n",
      "\n",
      "Dunder methods in foo1: ['__class__', '__delattr__', '__dict__', '__dir__', '__doc__', '__eq__', '__format__', '__ge__', '__getattribute__', '__gt__', '__hash__', '__init__', '__init_subclass__', '__le__', '__lt__', '__module__', '__ne__', '__new__', '__reduce__', '__reduce_ex__', '__repr__', '__setattr__', '__sizeof__', '__str__', '__subclasshook__', '__weakref__', 'value']\n"
     ]
    }
   ],
   "source": [
    "class FooBar():\n",
    "    def __init__(self, value):\n",
    "        self.value = value\n",
    "\n",
    "foo1 = FooBar(10)\n",
    "foo2 = FooBar(20)\n",
    "\n",
    "# Check built-in members\n",
    "print(f'Dunder methods in foo1: {dir(foo1)}')\n",
    "print()\n",
    "print(f'Dunder methods in foo1: {dir(foo1)}')"
   ]
  },
  {
   "cell_type": "markdown",
   "metadata": {},
   "source": [
    "- `foo1`, `foo2` 객체는 모두 `__gt__` 던더 메서드를 가지고 있습니다. 하지만 `greater than (>)` 비교연산을 하면 작동하지 않습니다."
   ]
  },
  {
   "cell_type": "code",
   "execution_count": 26,
   "metadata": {},
   "outputs": [
    {
     "ename": "TypeError",
     "evalue": "'>' not supported between instances of 'FooBar' and 'FooBar'",
     "output_type": "error",
     "traceback": [
      "\u001b[0;31m---------------------------------------------------------------------------\u001b[0m",
      "\u001b[0;31mTypeError\u001b[0m                                 Traceback (most recent call last)",
      "\u001b[0;32m/tmp/ipykernel_1216014/1785668163.py\u001b[0m in \u001b[0;36m<module>\u001b[0;34m\u001b[0m\n\u001b[0;32m----> 1\u001b[0;31m \u001b[0mfoo1\u001b[0m \u001b[0;34m>\u001b[0m \u001b[0mfoo2\u001b[0m\u001b[0;34m\u001b[0m\u001b[0;34m\u001b[0m\u001b[0m\n\u001b[0m",
      "\u001b[0;31mTypeError\u001b[0m: '>' not supported between instances of 'FooBar' and 'FooBar'"
     ]
    }
   ],
   "source": [
    "foo1 > foo2"
   ]
  },
  {
   "cell_type": "markdown",
   "metadata": {},
   "source": [
    "- 위 빌트인 멤버들 중에서 `__gt__` 함수를 오버라이딩(재정의) 하면 다음과 같습니다."
   ]
  },
  {
   "cell_type": "code",
   "execution_count": 27,
   "metadata": {},
   "outputs": [],
   "source": [
    "class FooBar():\n",
    "    def __init__(self, val) :\n",
    "        self.value = val\n",
    "    \n",
    "    def __gt__(self, other):\n",
    "        return self.value >= other.value"
   ]
  },
  {
   "cell_type": "code",
   "execution_count": 29,
   "metadata": {},
   "outputs": [],
   "source": [
    "foo1 = FooBar(10)\n",
    "foo2 = FooBar(20)"
   ]
  },
  {
   "cell_type": "code",
   "execution_count": 30,
   "metadata": {},
   "outputs": [
    {
     "data": {
      "text/plain": [
       "False"
      ]
     },
     "execution_count": 30,
     "metadata": {},
     "output_type": "execute_result"
    }
   ],
   "source": [
    "foo1 > foo2"
   ]
  },
  {
   "cell_type": "markdown",
   "metadata": {},
   "source": [
    "실제로 비교 연산자는 다음과 같이 작동하게 됩니다.\n",
    "\n",
    "1. 연산자 앞쪽 객체(`foo1`)는 자신 메서드 중 해당되는 던더 메서드를 호출하고, \n",
    "\n",
    "2. 그 던더 메서드의 인자(argument)로 연산자 뒤쪽에 있는 객체(`foo2`)를 전달합니다.\n",
    "\n",
    "3. 앞쪽 객체(`foo1`)의 해당 던더 메서드는 함수 정의에 따라 결과를 리턴합니다."
   ]
  },
  {
   "cell_type": "code",
   "execution_count": null,
   "metadata": {},
   "outputs": [],
   "source": [
    "# fool에서 __lt__ 함수를 호출하면서 인자로 foo2 전달\n",
    "foo1 < foo2 \n",
    "\n",
    "# fool에서 __gt__ 함수를 호출하면서 인자로 foo2 전달\n",
    "foo1 <= foo2\n",
    "\n",
    "# fool에서 __gt__ 함수를 호출하면서 인자로 foo2 전달\n",
    "foo1 > foo2\n",
    "\n",
    "# fool에서 __ge__ 함수를 호출하면서 인자로 foo2 전달\n",
    "foo1 >= foo2\n",
    "\n",
    "# fool에서 __eq__ 함수를 호출하면서 인자로 foo2 전달\n",
    "foo1 == foo2\n",
    "\n",
    "# fool에서 __ne__ 함수를 호출하면서 인자로 foo2 전달\n",
    "foo1 != foo2"
   ]
  },
  {
   "cell_type": "markdown",
   "metadata": {},
   "source": [
    "```{note}\n",
    "`__eq__`, 즉 `==` 연산자는 객체간 비교연산을 객체가 가지고 있는 값들이 모두 같으면 `True`, 다르면 `False`를 리턴합니다.\n",
    "그러므로 동일한 클래스에서 생성한 객체들은 별도의 `==` 연산자를 별도로 오버라이팅하지 않더라도 정상적으로 작동합니다.\n",
    "\n",
    "`>>> foo1 == foo2`\n",
    "\n",
    "`False`\n",
    "\n",
    "그러나 속성이 여러 개인 경우 그 중에서 특정 값이나 조건을 기준으로 `==` 연산하려면 추가적으로 `__eq__` 메서드를 오버라이딩 해줘야 합니다.\n",
    "\n",
    "```"
   ]
  },
  {
   "cell_type": "markdown",
   "metadata": {},
   "source": [
    "### 단일 식별자 함수 할당"
   ]
  },
  {
   "cell_type": "markdown",
   "metadata": {},
   "source": [
    "하나의 식별자에 람다(`lambda`) 표현을 사용해 직접적으로 할당하는 방식보다 `def`문을 이용해 명시적으로 함수를 정의해 주어야 합니다."
   ]
  },
  {
   "cell_type": "markdown",
   "metadata": {},
   "source": [
    "- 좋은 예"
   ]
  },
  {
   "cell_type": "code",
   "execution_count": null,
   "metadata": {},
   "outputs": [],
   "source": [
    "def f(x): return 2*x"
   ]
  },
  {
   "cell_type": "markdown",
   "metadata": {},
   "source": [
    "- 나쁜 예"
   ]
  },
  {
   "cell_type": "code",
   "execution_count": null,
   "metadata": {},
   "outputs": [],
   "source": [
    "f = lambda x: 2*x"
   ]
  },
  {
   "cell_type": "markdown",
   "metadata": {},
   "source": [
    "### 예외 처리 (Exception Handling)"
   ]
  },
  {
   "cell_type": "markdown",
   "metadata": {},
   "source": [
    "- 예외처리를 할 경우 단순히 에러가 났다는 것만 표시하는 것 보다는 어떤 에러인지 명시적으로 코딩해 주는 것이 좋습니다."
   ]
  },
  {
   "cell_type": "code",
   "execution_count": null,
   "metadata": {},
   "outputs": [],
   "source": [
    "try:\n",
    "    import platform_specific_module\n",
    "except ImportError:\n",
    "    platform_specific_module = None"
   ]
  },
  {
   "cell_type": "markdown",
   "metadata": {},
   "source": [
    "위 예제에서 `except ImportError` 대신 `except`만 사용할 경우 `SystemExit`과 `KeyboardInterrupt` 예외를 모두 잡아냅니다. 이 경우 키보드의 `Control-C`를 쳐서 생긴 예외인지 다른 문제가 있는 예외인지 구분하기 어렵게 됩니다. 만약 프로그램에서 발생하는 모든 에러를 잡아내고 싶다면 `except Exception` 구문을 사용하면 됩니다."
   ]
  },
  {
   "cell_type": "markdown",
   "metadata": {},
   "source": [
    "- 만약 `try-except` 구문을 사용하려고 한다면 명시적으로 잡아내고 싶은 에러를 최소화하는 것이 좋습니다."
   ]
  },
  {
   "cell_type": "markdown",
   "metadata": {},
   "source": [
    "- 좋은 예"
   ]
  },
  {
   "cell_type": "code",
   "execution_count": null,
   "metadata": {},
   "outputs": [],
   "source": [
    "try:\n",
    "    value = collection[key]\n",
    "except KeyError: # Catch only one specific error\n",
    "    return key_not_found(key)\n",
    "else:\n",
    "    return handle_value(value)"
   ]
  },
  {
   "cell_type": "markdown",
   "metadata": {},
   "source": [
    "- 나쁜 예\n",
    "    - `try` 구문에서 발생할 수 있는 예외가 너무 다양한 경우\n",
    "    - 정확히 어디에서 예외가 존재하는지 해석이 어려울 수 있습니다."
   ]
  },
  {
   "cell_type": "code",
   "execution_count": null,
   "metadata": {},
   "outputs": [],
   "source": [
    "try:\n",
    "    # Too broad!\n",
    "    return handle_value(collection[key])\n",
    "except KeyError:\n",
    "    # Will also catch KeyError raised by handle_value()\n",
    "    return key_not_found(key)"
   ]
  },
  {
   "cell_type": "markdown",
   "metadata": {},
   "source": [
    "### 컨텍스트 매니저 (context manager, 주로 with 구문으로 사용)를 사용하는 경우"
   ]
  },
  {
   "cell_type": "markdown",
   "metadata": {},
   "source": [
    "컴퓨팅 자원을 확보하거나 해제하는 경우가 아니라면 함수나 메서드를 이용하여 실행시키는 것이 좋습니다."
   ]
  },
  {
   "cell_type": "markdown",
   "metadata": {},
   "source": [
    "- 좋은 예"
   ]
  },
  {
   "cell_type": "code",
   "execution_count": null,
   "metadata": {},
   "outputs": [],
   "source": [
    "with conn.begin_transaction():\n",
    "    do_stuff_in_transaction(conn)"
   ]
  },
  {
   "cell_type": "markdown",
   "metadata": {},
   "source": [
    "- 나쁜 예\n",
    "\n",
    "    - 아래 예제는 `with` 구문을 부적절하게 사용한 예를 보여줍니다.\n",
    "    - `with` 구문은 해당 컨텍스트 영역의 시작(`__enter__`)과 끝(`__exit__`)을 자동으로 처리해 줍니다. 파일이나 소켓 연결같이 `close()` 메서드가 필요한 코드를 자동으로 처리해 주기 때문에 코딩 에러를 줄여주는 유용한 기능입니다.\n",
    "    - 다음 예제는 `conn`이 시작되었다는 정보만 알려줄 뿐 어떤 정보도 알 수 없는 구조입니다.\n",
    "    - 위의 예제는 `conn.begin_transaction()`을 명시적으로 코딩함으로써 어떤 일을 처리하겠다는 건지 명시적으로 나타나지 않습니다.\n",
    "    - 명시적으로 어떤 기능을 컨택스트 매니저의 해당 블록에서 처리하는 건지에 대하여 표현하는 것이 보다 바람직합니다."
   ]
  },
  {
   "cell_type": "code",
   "execution_count": null,
   "metadata": {},
   "outputs": [],
   "source": [
    "with conn:\n",
    "    do_stuff_in_transaction(conn)"
   ]
  },
  {
   "cell_type": "markdown",
   "metadata": {},
   "source": [
    "### 명시적 리턴(`return`) 표현"
   ]
  },
  {
   "cell_type": "markdown",
   "metadata": {},
   "source": [
    "- 어떤 함수에서 리턴(`return`)을 사용할 경우 모든 경우에서 명시적으로 리턴이 되도록 코딩하는 것이 바람직합니다.\n",
    "- 만약 조건문(`if - else`) 중에서 `if`에서 리턴이 있을 경우, 그 이외의 경우(`else`)에 어떤 값을 리턴하는지 명시적으로 표현해야 코드 분석이 용이하고 가독성(readability)가 높아집니다."
   ]
  },
  {
   "cell_type": "markdown",
   "metadata": {},
   "source": [
    "- 좋은 예"
   ]
  },
  {
   "cell_type": "code",
   "execution_count": null,
   "metadata": {},
   "outputs": [],
   "source": [
    "def foo(x):\n",
    "    if x >= 0:\n",
    "        return math.sqrt(x)\n",
    "    else:\n",
    "        return None\n",
    "\n",
    "def bar(x):\n",
    "    if x < 0:\n",
    "        return None\n",
    "    return math.sqrt(x)"
   ]
  },
  {
   "cell_type": "markdown",
   "metadata": {},
   "source": [
    "- 나쁜 예\n",
    "    - 아래 예제의 `foo` 함수에서 `if`문이 실행되는 경우 리턴 값을 알지만, 실행되지 않을 경우 어떤 값이 명시적으로 리턴 되는지 알 수 없습니다.\n",
    "    - `bar` 함수에서 `return math.sqrt(x)`는 `if`문이 실행되는 경우 어떤 값이 리턴 되는지 명시적으로 표현하지 않아 코드 분석에 혼선을 줄 수 있습니다. 위의 '좋은 예'처럼 명시적으로 `None`을 리턴해 주는 것이 좋은 코딩 스타일 입니다."
   ]
  },
  {
   "cell_type": "code",
   "execution_count": null,
   "metadata": {},
   "outputs": [],
   "source": [
    "def foo(x):\n",
    "    if x >= 0:\n",
    "        return math.sqrt(x)\n",
    "\n",
    "def bar(x):\n",
    "    if x < 0:\n",
    "        return\n",
    "    return math.sqrt(x)"
   ]
  },
  {
   "cell_type": "markdown",
   "metadata": {},
   "source": [
    "### 문자열 슬라이싱(Slicing)을 안전하게 하는 법"
   ]
  },
  {
   "cell_type": "markdown",
   "metadata": {},
   "source": [
    "문자열에서 특정 문자를 기준으로 앞 또는 뒤쪽으로 슬라이싱을 하는 경우는 `True`/`False` 연산을 통해 처리하기 보다는 `''.startwith()` 또는 `''.endwith()`를 활용하는 것이 좋습니다. `''.startwith()` 또는 `''.endwith()`이 인덱스 기반 슬라이싱보다 깔끔하고 에러가 적은 것으로 알려져 있습니다."
   ]
  },
  {
   "cell_type": "markdown",
   "metadata": {},
   "source": [
    "- 좋은 예"
   ]
  },
  {
   "cell_type": "code",
   "execution_count": null,
   "metadata": {},
   "outputs": [],
   "source": [
    "if foo.startswith('bar'):"
   ]
  },
  {
   "cell_type": "markdown",
   "metadata": {},
   "source": [
    "- 나쁜 예"
   ]
  },
  {
   "cell_type": "code",
   "execution_count": null,
   "metadata": {},
   "outputs": [],
   "source": [
    "if foo[:3] == 'bar':"
   ]
  },
  {
   "cell_type": "markdown",
   "metadata": {},
   "source": [
    "### 객체의 자료형(type) 비교"
   ]
  },
  {
   "cell_type": "markdown",
   "metadata": {},
   "source": [
    "객체와 객체 자료형(type)을 비교해야 하는 경우는 직접 비교하는 코딩 스타일 보다는 `isinstance()` 함수를 이용하는 것이 바람직합니다."
   ]
  },
  {
   "cell_type": "markdown",
   "metadata": {},
   "source": [
    "- 좋은 예"
   ]
  },
  {
   "cell_type": "code",
   "execution_count": null,
   "metadata": {},
   "outputs": [],
   "source": [
    "if isinstance(obj, int):"
   ]
  },
  {
   "cell_type": "markdown",
   "metadata": {},
   "source": [
    "- 나쁜 예"
   ]
  },
  {
   "cell_type": "code",
   "execution_count": null,
   "metadata": {},
   "outputs": [],
   "source": [
    "if type(obj) is type(1):"
   ]
  },
  {
   "cell_type": "markdown",
   "metadata": {},
   "source": [
    "### 시퀀스 자료형의 Empty 여부 확인"
   ]
  },
  {
   "cell_type": "markdown",
   "metadata": {},
   "source": [
    "문자열(string), 리스트(list), 튜플(tuple)과 같은 시퀀스 자료형에 데이터가 있는지 여부를 확인할 경우, 빈(empty) 자료형은 `Fasle`를 반환한다는 것을 이용하여 코딩하는 것이 좋습니다."
   ]
  },
  {
   "cell_type": "markdown",
   "metadata": {},
   "source": [
    "- 좋은 예"
   ]
  },
  {
   "cell_type": "code",
   "execution_count": null,
   "metadata": {},
   "outputs": [],
   "source": [
    "if not seq:\n",
    "if seq:"
   ]
  },
  {
   "cell_type": "markdown",
   "metadata": {},
   "source": [
    "- 나쁜 예"
   ]
  },
  {
   "cell_type": "code",
   "execution_count": null,
   "metadata": {},
   "outputs": [],
   "source": [
    "if len(seq):\n",
    "if not len(seq):"
   ]
  },
  {
   "cell_type": "markdown",
   "metadata": {},
   "source": [
    "### 문자열 마지막의 공백 사용"
   ]
  },
  {
   "cell_type": "markdown",
   "metadata": {},
   "source": [
    "마지막에 지나치게 많은 공백을 덧붙여진 문자열을 사용하는 것을 지양해야 합니다. 가독성이 떨어질 뿐만 아니라 어떤 에디터는 자동으로 문자열 마지막 공백을 잘라내는 경우도 있기 때문에 조심해야 합니다."
   ]
  },
  {
   "cell_type": "markdown",
   "metadata": {},
   "source": [
    "### Boolean 자료형의 비교"
   ]
  },
  {
   "cell_type": "markdown",
   "metadata": {},
   "source": [
    "Boolean 자료를 비교해야 하는 경우 `==` 연산자를 사용하지 않는 것이 좋습니다."
   ]
  },
  {
   "cell_type": "markdown",
   "metadata": {},
   "source": [
    "- 좋은 예"
   ]
  },
  {
   "cell_type": "code",
   "execution_count": null,
   "metadata": {},
   "outputs": [],
   "source": [
    "if greeting:"
   ]
  },
  {
   "cell_type": "markdown",
   "metadata": {},
   "source": [
    "- 나쁜 예"
   ]
  },
  {
   "cell_type": "code",
   "execution_count": null,
   "metadata": {},
   "outputs": [],
   "source": [
    "if greeting == True:"
   ]
  },
  {
   "cell_type": "markdown",
   "metadata": {},
   "source": [
    "- 아주 나쁜 예"
   ]
  },
  {
   "cell_type": "code",
   "execution_count": null,
   "metadata": {},
   "outputs": [],
   "source": [
    "if greeting is True:"
   ]
  },
  {
   "cell_type": "markdown",
   "metadata": {},
   "source": [
    "### `try - finally` 구문에서의 흐름제어 명령 사용"
   ]
  },
  {
   "cell_type": "markdown",
   "metadata": {},
   "source": [
    "`try - finally` 구문 내부에서 `finally` 밖으로 빠져나가는 흐름제어 명령(`return`, `break`, `continue`)을 사용하는 것은 가급적 사용하지 말아야 합니다.\n",
    "이러한 표현법은 `finally` 구문에서 지속될 수 있는 예외를 묵시적으로 무시할 수 있기 때문입니다."
   ]
  },
  {
   "cell_type": "markdown",
   "metadata": {},
   "source": [
    "- 나쁜 예"
   ]
  },
  {
   "cell_type": "code",
   "execution_count": null,
   "metadata": {},
   "outputs": [],
   "source": [
    "def foo():\n",
    "    try:\n",
    "        1 / 0\n",
    "    finally:\n",
    "        return 42"
   ]
  },
  {
   "cell_type": "markdown",
   "metadata": {},
   "source": [
    "## Function Annotations"
   ]
  },
  {
   "cell_type": "markdown",
   "metadata": {},
   "source": [
    "[PEP 484 - Type Hints](https://www.python.org/dev/peps/pep-0484/)에 따라서 함수 설명 방식이 변경되었습니다."
   ]
  },
  {
   "cell_type": "markdown",
   "metadata": {},
   "source": [
    "- 함수 설명은 [PEP 484 - Type Hints](https://www.python.org/dev/peps/pep-0484/)에서 제시하는 코딩 스타일을 따라야 합니다.\n",
    "- PEP 8에서 제시하는 함수 설명 방식은 더 이상 사용하지 않을 것을 추천합니다.\n",
    "- 그러나 표준 라이브러리(`stdlib`) 이외의 코딩에서 [PEP 484 - Type Hints](https://www.python.org/dev/peps/pep-0484/) 코딩 스타일을 사용하는 것은 추천합니다. 이때 [PEP 484 - Type Hints](https://www.python.org/dev/peps/pep-0484/)를 사용하는 것이 함수 설명을 추가하기 위한한 노력이나 가독성 증대를 검토한 후 사용할 것을 추천합니다. 너무 불필요한 일이 더 많아진다면 적용하지 않는 것이 좋을 수 있습니다.\n",
    "- 파이썬 표준 라이브러리에서 [PEP 484 - Type Hints](https://www.python.org/dev/peps/pep-0484/)와 같은 코딩 스타일(함수 설명)을 채택하는 것에는 아직 논란이 있습니다.\n",
    "- 그러나 새로운 개발을 위한 코딩이나 대규모 리팩토링(refactoring)이 필요한 경우에 사용하는 것은 가능합니다.\n",
    "- [PEP 484 - Type Hints](https://www.python.org/dev/peps/pep-0484/)에서 제시하는 함수 설명 방식을 다른 용도로 사용하고 싶다면 아래와 같은 코드를 소스파일 시작 부분에 삽입해 주면 됩니다."
   ]
  },
  {
   "cell_type": "code",
   "execution_count": null,
   "metadata": {},
   "outputs": [],
   "source": [
    "# type: ignore"
   ]
  },
  {
   "cell_type": "markdown",
   "metadata": {},
   "source": [
    "위와 같은 코드는 [PEP 484 - Type Hints](https://www.python.org/dev/peps/pep-0484/)에서 제시하는 모든 함수 설명과 관련된 체크 기능을 사용하지 않도록 해줍니다."
   ]
  },
  {
   "cell_type": "markdown",
   "metadata": {},
   "source": [
    "린터(linter)와 같은 것들을 이용해 함수 주석에 대한 정확성을 확인하는 것은 선택사항입니다.\n",
    "파이선 기본 인터프리터는 기본적으로 함수 설명에 대한 코딩 스타일에 대해서는 어떠한 에러도 발생시키지 않습니다."
   ]
  },
  {
   "cell_type": "markdown",
   "metadata": {},
   "source": [
    "```{admonition} Linter란?\n",
    "\n",
    "- [Online wiki](https://ko.wikipedia.org/wiki/%EB%A6%B0%ED%8A%B8_(%EC%86%8C%ED%94%84%ED%8A%B8%EC%9B%A8%EC%96%B4)): lint는 컴퓨터 프로그래밍에서 의심스럽거나, 에러를 발생하기 쉬운 코드에 표시(flag)를 달아 놓는 것을 말합니다. 원래는 C 언어에서 사용하던 용어였으나 지금은 다른 언어에서도 일반적으로 사용됩니다.\n",
    "\n",
    "\n",
    "- python으로 작성된 모듈, 패키지 등을 손쉽게 PEP8 스타일 가이드 및 구문에러 등을 통해 분석해 채점하고 올바르게 수정할 수 있도록 도와주는 작은 프로그램입니다. VS code의 경우 Extention을 이용해 쉽게 설치하고 사용할 수 있다. 대표적인 익스텐션은 [pylint](https://pylint.org/)이 있다."
   ]
  },
  {
   "cell_type": "markdown",
   "metadata": {},
   "source": [
    "## Variable Annotations"
   ]
  },
  {
   "cell_type": "markdown",
   "metadata": {},
   "source": [
    "변수에 대한 설명 방법은 [PEP 526](https://www.python.org/dev/peps/pep-0526/) - Syntax for Variable Annotations 에 별도로 정의되어 있습니다.\n",
    "\n",
    "\n",
    "- 변수 설명 방법은 꽤 복잡한 부분이 있어서 초기 학습자들에게 혼선을 줄 수 있어 구체적 내용에 대한 설명은 생략합니다.\n",
    "- 변수 설명에 대한 자세한 내용은 [PEP 526](https://www.python.org/dev/peps/pep-0526/)을 참고하기 바랍니다. \n"
   ]
  },
  {
   "cell_type": "markdown",
   "metadata": {},
   "source": [
    "---"
   ]
  }
 ],
 "metadata": {
  "interpreter": {
   "hash": "5eb840e64f51ccfda80b46a1f1ba2ca91909d6b13865d3114cc85b50831531fb"
  },
  "kernelspec": {
   "display_name": "Python 3.7.10 64-bit ('book_writing': conda)",
   "language": "python",
   "name": "python3"
  },
  "language_info": {
   "codemirror_mode": {
    "name": "ipython",
    "version": 3
   },
   "file_extension": ".py",
   "mimetype": "text/x-python",
   "name": "python",
   "nbconvert_exporter": "python",
   "pygments_lexer": "ipython3",
   "version": "3.7.10"
  },
  "orig_nbformat": 4
 },
 "nbformat": 4,
 "nbformat_minor": 2
}
