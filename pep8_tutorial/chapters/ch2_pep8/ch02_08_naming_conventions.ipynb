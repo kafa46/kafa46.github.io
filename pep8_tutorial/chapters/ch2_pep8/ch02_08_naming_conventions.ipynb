{
 "cells": [
  {
   "cell_type": "markdown",
   "metadata": {},
   "source": [
    "# Naming Conventions (이름 짓기)"
   ]
  },
  {
   "cell_type": "markdown",
   "metadata": {},
   "source": [
    "파이썬에서 이름짓기 규칙은 약간 골치아플 정도록 복잡합니다. 파이썬 개발자는 기존에 존재하는 어떤 이름 짓기 convention이라도 사용할 수 있습니다. 모든 이름 짓기 convention을 모두 다룰 수 없지만 현재 기본적으로 많이 사용하는 이름 짓기 표준에 관련된 사항 위주로 설명하겠습니다.\n",
    "\n",
    "새롭게 개발되는 모듈이나 패키지는 당연히 여기서 설명하는 이름 짓기 convention 사용을 강력히 권고합니다.\n",
    "\n",
    "만약, 여러분이 기존에 가지고 있는 코드가 다른 스타일이라면 전체를 뜯어고치지 말고 기존 코드의 convention을 유지하면서 관리하는 것이 좋습니다."
   ]
  },
  {
   "cell_type": "markdown",
   "metadata": {},
   "source": [
    "## Overriding Principle (오버라이딩 원칙)"
   ]
  },
  {
   "cell_type": "markdown",
   "metadata": {},
   "source": [
    "```{important}\n",
    "API의 공개된 부분 중 사용자가 볼 수 있는 이름은 어떻게 구현했는지 보다는 어떤 작업을 하는지를 보여주는 것이 중요합니다.\n",
    "```"
   ]
  },
  {
   "cell_type": "markdown",
   "metadata": {},
   "source": [
    "## Descriptive Naming Style (서술적 이름 짓기 스타일)"
   ]
  },
  {
   "cell_type": "markdown",
   "metadata": {},
   "source": [
    "서술적 이름 짓기 스타일은 어떤 관행이나 규칙을 따르는 것이 아니라 개발자들의 편리에 의해 개별적으로 사용되는 이름 짓기 스타일 입니다. 일정한 규칙이 없다보니 수많은 이름 짓기 스타일이 존재합니다. 대표적 서술적 이름 짓기를 정리하면 다음과 같습니다."
   ]
  },
  {
   "cell_type": "markdown",
   "metadata": {},
   "source": [
    "- b (하나의 소문자를 이용해 이름 붙여주기)\n",
    "\n",
    "- B (하나의 대문자를 이용해 이름 붙여주기)\n",
    "\n",
    "- lowercase (소문자를 결합해서 이름 붙여주기)\n",
    "\n",
    "- lower_case_with_underscores (소문자와 언더스코어를 결합해서 이름 붙여주기)\n",
    "\n",
    "- UPPERCASE (대문자를 결합해서 이름 붙여주기)\n",
    "\n",
    "- UPPER_CASE_WITH_UNDERSCORES (대문자와 언더스코어를 결합해서 이름 붙여주기)\n",
    "\n",
    "```{admonition} CapWord (캡워드 스타일)\n",
    ":name: capword\n",
    "- CapitalizedWords (이름 중간에 대문자를 적절히 사용하기 때문에 중간이 툭툭 튀어나온 모양을 갖는 이름 짓기 스타일입니다. \n",
    "- '캡워드(CapWords)', '스터들리캡(StudlyCap)' 또는  '카멜케이스(CamelCase)'라고 부르기도 합니다.\n",
    "- 파이썬에서는 클래스(class) 이름을 지어줄때 사용하는 컨벤션(convention) 입니다.\n",
    "```\n",
    "\n",
    "(mixedCase)=\n",
    "- mixedCase (캡워드 스타일과 유사하지만 첫 글자를 소문자로 씁니다.)\n",
    "\n",
    "- Capitalized_Words_With_Underscores (캡워드와 언더스코어 스타일이 혼합된 형태)\n",
    "    - 가장 난잡하고 복잡해서 사용하는 것을 추천하지 않습니다.\n",
    "\n",
    "```{note} 캡워드 스타일에서 약어 사용\n",
    "캡워드 스타일을 사용하는 이름 짓기에서 약어를 포함해야 하는 경우에는 약어는 모두 대문자로 쓰는 것이 좋습니다.\n",
    "\n",
    "- 좋은 예: HTTPServerError\n",
    "- 나쁜 예: HttpServerError\n",
    "```"
   ]
  },
  {
   "cell_type": "markdown",
   "metadata": {},
   "source": [
    "연관있는 이름을 그룹화 하기 위하여 독특한 문자를 사용하는 이름 짓기 스타일도 있습니다.\n",
    "\n",
    "파이썬의 경우 그리 많이 사용하지 않지만, 가끔 사용하는 경우가 있습니다.\n",
    "\n",
    "예를 들어 os.stat() 함수는 튜플을 리턴하게 되는데 튜플의 이름을 st_mode, st_size, st_mtime 등과 같이 짓는 경우가 있습니다. 이 경우는 관례적으로 사용하는 리턴값과의 일관성을 유지하기 위해 사용하는 경우입니다."
   ]
  },
  {
   "cell_type": "markdown",
   "metadata": {},
   "source": [
    "X11 라이브러리는 관습적으로 모든 public 함수의 이름 맨 앞에 X를 붙여주기도 합니다. 하지만 이런 이름 짓기 스타일은 파이썬에서 필수적인 것은 아닙니다. 왜냐하면 속성 및 메서드 이름은 객체이름이 앞에 붙여지고 함수 이름은 모듈 이름이 앞에 붙기 때문입니다."
   ]
  },
  {
   "cell_type": "markdown",
   "metadata": {},
   "source": [
    "```{admonition} X11에 대하여\n",
    "X 윈도우(X Window) 또는 X 윈도 시스템(X Window System, 흔히 X11, X라고 알려져 있음. 문화어: X Window체계)은 주로 유닉스 계열 운영체제에서 사용되는 윈도 시스템 및 X 윈도우 GUI 환경입니다.\n",
    "\n",
    "X 윈도 시스템은 디스플레이 장치에 창을 표시하며 마우스와 키보드 등의 입력 장치의 상호작용 등을 관리해 GUI 환경의 구현을 위한 기본적인 프레임워크를 제공합니다.\n",
    "\n",
    "자료 출처: [X윈도 시스템](https://ko.wikipedia.org/wiki/X_%EC%9C%88%EB%8F%84_%EC%8B%9C%EC%8A%A4%ED%85%9C)\n",
    "```"
   ]
  },
  {
   "cell_type": "markdown",
   "metadata": {},
   "source": [
    "앞쪽 혹은 뒤쪽에 언더스코어( _ )를 사용하는 경우를 볼 수 있습니다. 이 경우는 일반적으로 특수한 목적을 가진 경우에 사용합니다. 몇 가지 예를 들면 다음과 같습니다."
   ]
  },
  {
   "cell_type": "markdown",
   "metadata": {},
   "source": [
    "(single_leading_underscore)= \n",
    "-  _single_leading_underscore: 기능을 내부 목적으로 사용하고자 하는 경우에 해당합니다. Java 또는 C++에서 private 멤버와 조금 비슷한 느낌입니다.\n",
    "\n",
    "- 아래 코드 중 M에 포함된 객체(함수, 클래스, 변수 등) 중에서 하나의 언더스코어( _ )가 앞에 붙은 것들은 임포트 되지 않습니다."
   ]
  },
  {
   "cell_type": "code",
   "execution_count": null,
   "metadata": {},
   "outputs": [],
   "source": [
    "# Follow line does not import objects whose names start with an underscore.\n",
    "from M import *"
   ]
  },
  {
   "cell_type": "markdown",
   "metadata": {},
   "source": [
    "- ingle_trailing_underscore_: 파이썬에서 이미 사용하고 있는 키워드와 겹치는 것을 방지하기 위해 이름 마지막에 언더스코어( _ )를 붙여줍니다. 아래 예제는 class 라는 이름을 지어주고 싶은데, class는 파이썬의 예약어이므로 사용할 수 없어 맨 끝에 언더스코어를 붙여준 경우입니다."
   ]
  },
  {
   "cell_type": "code",
   "execution_count": null,
   "metadata": {},
   "outputs": [],
   "source": [
    "tkinter.Toplevel(master, class_='ClassName')"
   ]
  },
  {
   "cell_type": "markdown",
   "metadata": {},
   "source": [
    "- __double_leading_underscore: 클래스 속성에 이름을 지어줄 경우 언더스코어 2개를 앞에 붙여주면 해당 이름에 맹글링(mangling)이 수행됩니다.\n",
    "    - FooBar 라는 클래스가 __boo라는 속성을 가지고 있을 경우\n",
    "    - __boo 속성은 _FooBar__boo로 자동 변환 됩니다."
   ]
  },
  {
   "cell_type": "markdown",
   "metadata": {},
   "source": [
    "```{admonition} 맹글링(mangling)\n",
    "\n",
    "맹글링은 사전적 의미는 '짓이기다'라는 뜻입니다.\n",
    "파이썬에서 맹글링은 원래 이름을 짓이겨서 다른 이름으로 바꿔버리는 것을 의미합니다.\n",
    "맹글링이 왜 필요하냐고요? 두 가지 필요성 때문에 맹글링이 필요합니다.\n",
    "1. 클래스 속성값을 외부에서 접근하지 못하도록 할 때 사용합니다. (private 멤버로 만드는 효과)\n",
    "2. 하위 클래스가 상위 클래스 속성을 오버라이딩 하는 것을 막을 때 사용합니다.\n",
    "```"
   ]
  },
  {
   "cell_type": "markdown",
   "metadata": {},
   "source": [
    "- 다음은 클래스 속성값에 접근할 수 있는 예제입니다."
   ]
  },
  {
   "cell_type": "code",
   "execution_count": null,
   "metadata": {},
   "outputs": [],
   "source": [
    "class TestClass:\n",
    "    def __init__(self):\n",
    "        self.name = \"왕춘삼\"\n",
    "        self.age = 30\n",
    "        self.hobby = \"인형놀이\"\n",
    "\n",
    "\n",
    "man = TestClass()\n",
    "print(man.name, man.age, man.hobby)\n",
    "\n",
    "# print output\n",
    "# 왕춘삼 47 인형놀이"
   ]
  },
  {
   "cell_type": "markdown",
   "metadata": {},
   "source": [
    "- 다음은 맹글링을 통해 클래스 속성값에 접근하지 못하는 예제입니다."
   ]
  },
  {
   "cell_type": "code",
   "execution_count": null,
   "metadata": {},
   "outputs": [],
   "source": [
    "class TestClass:\n",
    "    def __init__(self):\n",
    "        self.name = \"왕춘삼\"\n",
    "        self.age = 47\n",
    "        self.__hobby = \"인형놀이\"\n",
    "\n",
    "\n",
    "man = TestClass()\n",
    "print(man.name, man.age, man.__hobby)\n",
    "# AttributeError: 'TestClass' object has no attribute '__hobby'"
   ]
  },
  {
   "cell_type": "markdown",
   "metadata": {},
   "source": [
    "이름 앞과 뒤에 더블 언더스코어 (언더스코어 2개, __ )가 붙은 경우는 매직 매서드 입니다. 대표적으로 아래와 같은 것들이 있습니다.\n",
    "절대로 매직 메서드와 같은 이름을 만들지 마세요."
   ]
  },
  {
   "cell_type": "code",
   "execution_count": null,
   "metadata": {},
   "outputs": [],
   "source": [
    "__init__ \n",
    "__import__\n",
    "__file__\n",
    "    :\n",
    "    :\n"
   ]
  },
  {
   "cell_type": "markdown",
   "metadata": {},
   "source": [
    "## Prescriptive Naming Style (관행적 이름 짓기 스타일)"
   ]
  },
  {
   "cell_type": "markdown",
   "metadata": {},
   "source": [
    "### Names to Avoid (피해야할 이름)"
   ]
  },
  {
   "cell_type": "markdown",
   "metadata": {},
   "source": [
    "영어 대문자 아이(I), 대문자 오(O), 소문자 엘(l)은 단일문자 이름으로 사용하면 절대 안됩니다.\n",
    "\n",
    "일부 폰트에서는 숫자 1, 0과 구분이 되지 않습니다. 가독성에 매우 큰 문제가 될 수 있습니다.\n",
    "\n",
    "알파벳 소문자 엘(l)을 꼭 사용해야 한다면, 소문자 대신 대문자 엘(L)을 사용하기 바랍니다."
   ]
  },
  {
   "cell_type": "markdown",
   "metadata": {},
   "source": [
    "### ASCII Compatibility (아스키 코드 호환성)"
   ]
  },
  {
   "cell_type": "markdown",
   "metadata": {},
   "source": [
    "파이썬 표준 라이브러리(standard library)에서 사용된 식별자는 반드시 ASCII 코드와 호환성이 있어야 합니다.\n",
    "\n",
    "\n",
    "다른 이름 짓기에는 다음과 같은 규칙을 적용해야 파이썬이 알아듣습니다.\n",
    "- 영어 소문자 (a to z)\n",
    "- 영어 대문자 (A to Z)\n",
    "- 숫자 (0 to 9)\n",
    "- 언더스코어 (_)\n",
    "- 식별자는 숫자로 시작해서는 안됩니다.\n",
    "- 특수문자(!, @, #, $, %, . )를 사용하면 안됩니다.\n",
    "- 파이썬 예약어를 사용하면 안됩니다.\n",
    "- 최대 79 글자를 넘기면 안됩니다."
   ]
  },
  {
   "cell_type": "markdown",
   "metadata": {},
   "source": [
    "- 파이썬에서 사용하는 예약어(키워드)는 다음과 같이 확인할 수 있습니다."
   ]
  },
  {
   "cell_type": "code",
   "execution_count": 8,
   "metadata": {},
   "outputs": [
    {
     "name": "stdout",
     "output_type": "stream",
     "text": [
      "['False', 'None', 'True', 'and', 'as', 'assert', 'async', 'await', 'break', 'class', 'continue', 'def', 'del', 'elif', 'else', 'except', 'finally', 'for', 'from', 'global', 'if', 'import', 'in', 'is', 'lambda', 'nonlocal', 'not', 'or', 'pass', 'raise', 'return', 'try', 'while', 'with', 'yield']\n"
     ]
    }
   ],
   "source": [
    "import keyword\n",
    "print(keyword.kwlist)"
   ]
  },
  {
   "cell_type": "markdown",
   "metadata": {},
   "source": [
    "### Package & Module Names (패키지와 모듈의 이름)"
   ]
  },
  {
   "cell_type": "markdown",
   "metadata": {},
   "source": [
    "모듈의 이름은 모두 소문자로 구성하고 간결하게 짓습니다.\n",
    "\n",
    "만약 가독성에 도움이 된다면 모듈 이름에 언더스코어를 사용할 수 있습니다.\n",
    "\n",
    "\n",
    "파이썬 패키지 역시 모두 소문자로 구성하고 간결하게 이름을 지어야 합니다.\n",
    "\n",
    "파이썬 패키지는 언더스코어 사용하지 않을 것을 추천합니다."
   ]
  },
  {
   "cell_type": "markdown",
   "metadata": {},
   "source": [
    "```{admonition} 패키지와 모듈의 차이\n",
    "- 모듈: 각종 클래스, 함수, 변수 등을 포함하고 있는 파일입니다. 일반적으로 xxx.py 파일을 의미합니다.\n",
    "\n",
    "- 패키지: 특정 기능과 관련된 모듈(xxx.py)들을 묶어놓은 폴더라고 생각하면 됩니다. 참고로 과거 파이썬 3.3 이전 버전에서는 해당 폴더가 패키지인 것을 파이썬에게 알려주기 위해 \\_\\_init\\_\\_.py 라는 빈 파일을 폴더에 넣어주어야 했습니다. 파이썬 3.4 이상에서는 \\_\\_init\\_\\_.py 라는 빈 파일이 없어도 작동은 하지만 여전히 명시성과 과거 버전과의 호환성을 위해 사용하는 경우도 많습니다. 어떤 폴더에 \\_\\_init\\_\\_.py 파일이 있다면, 해당 폴더에 있는 모듈들을 from 또는 import 등을 이용하여 편리하게 불러올 수 있습니다.\n",
    "\n",
    "```"
   ]
  },
  {
   "cell_type": "markdown",
   "metadata": {},
   "source": [
    "```{note} \n",
    "\n",
    "\\_\\_init\\_\\_.py 또 다른 역할\n",
    "\n",
    "특정 모듈이 위치한 디렉토리에 \\__init__\\.py 파일이 있다면 공통으로 적용 가능한 기능이나 모듈을 포함할 수 있습니다. 예를 들어 \\_\\_init\\_\\_.py와 top_module.py 파일이 같이 있고, 하위 디렉토리가 여러개 있을 경우 한번의 선언으로 모두 공통적으로 사용할 수 있습니다.\n",
    "\n",
    "- top_module.py 모듈이 있는 하위 디렉토리에 aaa.py, bbb.py, ccc.py 라는 모듈이 있다고 가정합니다.\n",
    "- aaa.py, bbb.py, ccc.py 3개의 모듈은 모두 base.py 라는 모듈 기능이 필요하다면 각각의 파일 내부에서 import를 해야 합니다.\n",
    "- aaa.py, bbb.py, ccc.py 3개 모듈 외에 \\_\\_init\\_\\_.py 라는 모듈을 만들고 \\_\\_init\\_\\_.py 모듈 내부에서 import base 선언하면 나머지 3개에 파일에서는 별도의 import 없이 base.py를 활용할 수 있습니다.\n",
    "- 이와 같은 모듈 초기화를 통해 더 적은 코드를 사용할 수 있고, 결과적으로 효율적인 코드 작성이 가능해 집니다.\n",
    "```"
   ]
  },
  {
   "cell_type": "markdown",
   "metadata": {},
   "source": [
    "### Class Names (클래스 이름)"
   ]
  },
  {
   "cell_type": "markdown",
   "metadata": {},
   "source": [
    "클래스의 이름은 반드시 {ref}`캡워드<capword>` 컨벤션을 따라야 합니다. \n",
    "\n",
    "인터페이스가 정의되어 있고 우선적인 호출 객체일 경우 함수 이름 붙여주는 컨벤션을 적용할 수 있습니다.\n",
    "\n",
    "```{note}\n",
    "- 다양한 빌트인(builtin, 이미 정의된, 사전에 만들어서 내장해 놓은) 이름이 있을 수 있습니다.\n",
    "- 대부분의 빌트인 이름은 하나 또는 두 개의 단어가 결합된 형태가 대부분입니다.\n",
    "- 빌트인 이름 중 유일하게 {ref}`캡워드<capword>` 컨벤션을 사용하는 것은 에러(Exception) 이름과 빌트인 상수입니다.\n",
    "```"
   ]
  },
  {
   "cell_type": "markdown",
   "metadata": {},
   "source": [
    "### Type Varialbe Names (자료형 변수 이름)"
   ]
  },
  {
   "cell_type": "markdown",
   "metadata": {},
   "source": [
    "자료형 변수의 이름은 [PEP 484 Type Hints](https://www.python.org/dev/peps/pep-0484/)에 정의되어 있습니다. 자료형 변수 이름은 주로 {ref}`캡워드<capword>` 컨벤션을 따르고 있으며 짧은 이름을 선호합니다.\n",
    "\n",
    "\n",
    "**T**, **AnyStr**, **Num** 등이 자료형의 이름입니다.\n",
    "\n",
    "자료형 변수는 해당 변수 이름 마지막에 특징을 부여하는 단어를 붙여서 사용하는 것을 추천합니다."
   ]
  },
  {
   "cell_type": "markdown",
   "metadata": {},
   "source": [
    "- 아래 예제는 TypeVar 이라는 자료형을 임포트하고 VT_co 라는 이름을 갖는 TypeVar 자료형 변수를 선언한 예시입니다.\n",
    "- `covariant=True`라는 옵션을 설정하였기 때문에 변수 이름 끝에 **co**를 붙여서 `VT_co` 라는 자료형 변수를 선언했습니다."
   ]
  },
  {
   "cell_type": "code",
   "execution_count": null,
   "metadata": {},
   "outputs": [],
   "source": [
    "from typing import TypeVar\n",
    "\n",
    "VT_co = TypeVar('VT_co', covariant=True)"
   ]
  },
  {
   "cell_type": "markdown",
   "metadata": {},
   "source": [
    "### Exception Names (예외 이름)"
   ]
  },
  {
   "cell_type": "markdown",
   "metadata": {},
   "source": [
    "예외(`Exception`)는 기본적으로 클래스(class) 입니다.\n",
    "따라서 클래스 이름 짓기 컨벤션인 {ref}`캡워드<capword>`를 사용하면 됩니다.\n",
    "\n",
    "다만 여러분이 만든 에러 이름이 진짜 에러를 표현하는 것이라면 예외 이름 지어준 마지막에 \"Error\"라고 붙여주면 좋습니다."
   ]
  },
  {
   "cell_type": "markdown",
   "metadata": {},
   "source": [
    "### Global Variable Names (전역 변수 이름)"
   ]
  },
  {
   "cell_type": "markdown",
   "metadata": {},
   "source": [
    "전역변수는 단일 모듈 내에서만 사용할 것을 강력히 권장합니다. 전역변수 하나를 설정하고 여러 모듈에서 사용하면 절대로 안됩니다.\n",
    "\n",
    "전역 변수를 남용하면 코드 작동 결과가 이상해도 버그를 찾아내는 것이 매우 어렵게 됩니다.\n",
    "\n",
    "전역변수 이름 짓기는 {ref}`함수(function)<function_name>`와 동일한 컨벤션을 사용합니다."
   ]
  },
  {
   "cell_type": "markdown",
   "metadata": {},
   "source": [
    "모듈의 모든 내용을 불러오는 와일드( * ) 임포트를 사용할 경우엔는 전역 변수가 같이 `import` 되는 것을 막기 위해 `__all__` 메커니즘을 활용하는 것이 좋습니다.\n",
    "````{note}\n",
    "`__all__` 메커니즘은 해당 디렉터리의 `__init__.py` 파일에 `__all__`이라는 변수를 설정하고 import할 수 있는 모듈을 정의해 주는 방식입니다.\n",
    "`__all__` 변수에 정의해 주지 않는 변수들은 와일드( * ) 임포트를 해도 불러오지 않습니다.\n",
    "\n",
    "- `game`이라는 패키지 하위 디렉토리에 `sound.py`라는 모듈이 있고, \n",
    "- `sound.py`가 존재하는 하위 디렉토리에 `echo.py`라는 모듈이 있는 상황입니다.\n",
    "- `echo.py`는 `echo_test()`라는 함수가 정의되어 있으며, `echo_test()`는 `echo`라는 전역 변수를 출력하는 함수입니다.\n",
    "- 만약 다음과 같이 실행하면 에러가 납니다.\n",
    "```python\n",
    "from game.sound import *\n",
    "echo.echo_test()\n",
    "Traceback (most recent call last):\n",
    "    File \"<stdin>\", line 1, in <module>\n",
    "NameError: name 'echo' is not defined\n",
    "```\n",
    "\n",
    "- 하지만 `__init__.py`에 `__all__`을 다음과 같이 정의할 수 있습니다.\n",
    "```python\n",
    "# __init__.py\n",
    "__all__ = ['echo']\n",
    "```\n",
    "\n",
    "- 다시 위 코드를 실행하면 정상적으로 작동합니다.\n",
    "```python\n",
    "from game.sound import *\n",
    "echo.echo_test()\n",
    "# >>> Output -> echo\n",
    "```\n",
    "\n",
    "````"
   ]
  },
  {
   "cell_type": "markdown",
   "metadata": {},
   "source": [
    "전역 변수 import를 막는 다른 방법은 앞에서 설명한 것과 같이 이름 앞에 하나의 언더스코어를 사용하는 컨벤션을 사용하는 것입니다.\n",
    "\n",
    "앞에서 설명한 {ref}`단일 언더스코어<single_leading_underscore>` 사용법을 참고하면 됩니다."
   ]
  },
  {
   "cell_type": "markdown",
   "metadata": {},
   "source": [
    "(function_name)=\n",
    "### Function & Variable Names (함수와 변수 이름)"
   ]
  },
  {
   "cell_type": "markdown",
   "metadata": {},
   "source": [
    "함수 이름은 소문자로 구성하여 짓습니다.\n",
    "\n",
    "가독성을 높일 수 있다면 함수 이름 중간에 언더스코어를 사용하는 것도 좋습니다.\n",
    "\n",
    "변수 이름 짓는 것은 함수 이름 짓는 방법과 동일합니다.\n",
    "\n",
    "{ref}`mixedCase<mixedCase>` 컨벤션을 사용하는 것도 가능합니다. 이미 과거에 `threading.py`와 같은 모듈에서 사용한 적이 있기 때문에 과거 컨벤션과의 호환성을 유지할 수 있습니다."
   ]
  },
  {
   "cell_type": "markdown",
   "metadata": {},
   "source": [
    "### Method Names & Instance Variables (메서드 이름과 객체 변수)"
   ]
  },
  {
   "cell_type": "markdown",
   "metadata": {},
   "source": [
    "인스턴스 메서드의 첫 번째 인자는 항상 `self`를 적어 줍니다.\n",
    "\n",
    "```{admonition} 인스턴스 메서드 (instance method)\n",
    "- 가장 흔히 쓰이는 것으로, 인스턴스 변수에 엑세스할 수 있도록 첫 번째 인자에 항상 객체 자신을 의미하는 `self` 파라미터를 갖습니다.(self이외에도 여러개의 파라미터를 가질 수 있습니다.)\n",
    "- 해당 메서드를 호출한 객체에만 영향을 미칩니다.\n",
    "- 객체 속성에 접근이 가능하다.\n",
    "- 호출 방법\n",
    "    - 해당 클래스 안에서는 `self.메서드명`\n",
    "    - 클래스 밖에서는 `객체.메서드명`\n",
    "```\n",
    "\n",
    "클래스 메서드의 첫번째 인자는 `cls`를 적어 줍니다.\n",
    "````{admonition} 클래스 메서드 (class method)\n",
    "- `self` 파라미터 대신 `cls`라는 클래스를 의미하는 파라미터를 갖습니다.\n",
    "- 해당 클래스로 생성된 객체로 부터 호출 되는 것이 아니라, 클래스 자체에서 직접 호출됩니다.\n",
    "- 객체의 속성/메서드에는 엑세스가 불가능합니다.\n",
    "    - 그러나, `cls.클래스속성명`으로 클래스 속성에는 접근 가능합니다.\n",
    "- `cls`를 사용하면 클레스 메서드 내부에서 현재 클래스의 인스턴스를 만들 수도 있다. (`cls() = 현재클래스명()`를 의미합니다.)\n",
    "- 호출 방법\n",
    "    - `클래스명.클래스메서드명`\n",
    "    - `객체명.클래스메서드명`\n",
    "\n",
    "```python\n",
    "class Person:\n",
    "    count = 0 # 클래스 속성\n",
    "\n",
    "    def __init__(self):\n",
    "        Person.count += 1\n",
    "\n",
    "    @classmethod\n",
    "    def print_count(cls):\n",
    "        # 클래스 속성에는 엑세스가 가능합니다.\n",
    "        print('{0}명 생성되었습니다.'.format(cls.count)) \n",
    "\n",
    "    @classmethod\n",
    "    def create(cls):\n",
    "        # 메서드 내부에서 cls()로 현재 클래스의 인스턴스를 만들 수도 있습니다. \n",
    "        # 즉, cls() = Person()을 의미합니다.\n",
    "        p = cls() \n",
    "        return p    \n",
    "\n",
    "ryan = Person()\n",
    "apeach = Person()\n",
    "\n",
    "Person.print_count() \n",
    "# 결과값 : 2명 생성되었습니다.\n",
    "\n",
    "print(Person.create()) \n",
    "# 결과값 : <__main__.Person object at 0x000001BA0AE143D0> \n",
    "# Person클래스로 부터 생성된 인스턴스임을 확인할 수 있습니다.\n",
    "```\n",
    "참고 블로그: [[Python] 인스턴스 메서드 / 정적 메서드 / 클래스 메서드](https://journeytosth.tistory.com/73)\n",
    "\n",
    "````"
   ]
  },
  {
   "cell_type": "markdown",
   "metadata": {},
   "source": [
    "파이썬 예약어를 함수 인자 이름으로 지어주게 되면 에러가 나게 됩니다.\n",
    "\n",
    "예약어와 동일한 인자 이름을 써야 한다면 이름 뒤쪽에 언더스코어를 붙여 줍니다. \n",
    "\n",
    "예를 들어 `class`라는 인자 이름을 사용해야 한다면 `clss`와 같은 줄임말 보다는 `class_` 같이 이름을 지어주는 것이 훨씬 가독성이 높고 코드 분석을 할때 혼선을 줄일 수 있습니다."
   ]
  },
  {
   "cell_type": "markdown",
   "metadata": {},
   "source": [
    "### Constants (상수)"
   ]
  },
  {
   "cell_type": "markdown",
   "metadata": {},
   "source": [
    "상수(constant)는 모듈 레벨에서 정의하고 사용하도록 합니다.\n",
    "\n",
    "상수는 일반적으로 모두 대문자로 표기합니다.\n",
    "\n",
    "가독성을 높이기 위해 언더스코어를 적절히 혼합하여 사용할 수 있습니다. \n",
    "\n",
    "예를 들면 `MAX_OVERFLOW` 또는 `TOTAL` 같은 형태 모두 가능합니다."
   ]
  },
  {
   "cell_type": "markdown",
   "metadata": {},
   "source": [
    "### Designing for Inheritance (상속 설계)"
   ]
  },
  {
   "cell_type": "markdown",
   "metadata": {},
   "source": [
    "이 내용은 어렵기 때문에 생략합니다.\n",
    "\n",
    "좀 더 깊은 이해를 원하는 독자는 [Method Names and Instance Variables](https://www.python.org/dev/peps/pep-0008/#id45)를 참고하기 바랍니다."
   ]
  },
  {
   "cell_type": "markdown",
   "metadata": {},
   "source": [
    "## Public & Internal Interface"
   ]
  },
  {
   "cell_type": "markdown",
   "metadata": {},
   "source": [
    "이 내용은 어렵기 때문에 생략합니다.\n",
    "\n",
    "좀 더 깊은 이해를 원하는 독자는 [Public and Internal Interfaces](https://www.python.org/dev/peps/pep-0008/#id48)를 참고하기 바랍니다."
   ]
  },
  {
   "cell_type": "markdown",
   "metadata": {},
   "source": [
    "---"
   ]
  }
 ],
 "metadata": {
  "kernelspec": {
   "display_name": "Python 3",
   "language": "python",
   "name": "python3"
  },
  "language_info": {
   "codemirror_mode": {
    "name": "ipython",
    "version": 3
   },
   "file_extension": ".py",
   "mimetype": "text/x-python",
   "name": "python",
   "nbconvert_exporter": "python",
   "pygments_lexer": "ipython3",
   "version": "3.7.10"
  }
 },
 "nbformat": 4,
 "nbformat_minor": 2
}
