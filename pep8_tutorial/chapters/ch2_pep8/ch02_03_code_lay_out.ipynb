{
 "cells": [
  {
   "cell_type": "markdown",
   "metadata": {},
   "source": [
    "# Code Lay-out"
   ]
  },
  {
   "cell_type": "markdown",
   "metadata": {},
   "source": [
    "## Indentation (들여쓰기)"
   ]
  },
  {
   "cell_type": "markdown",
   "metadata": {},
   "source": [
    "- 모든 들여쓰기는 공백 4칸을 사용"
   ]
  },
  {
   "cell_type": "markdown",
   "metadata": {},
   "source": [
    "### 괄호(대괄호 [  ], 중괄호 {  }, 소괄호(  ))에서 줄바꿈이 일어나는 경우,\n",
    "- 다음 줄에 나오는 구성 요소들은 괄호 단위에서 수직으로 정렬되어야 한다."
   ]
  },
  {
   "cell_type": "markdown",
   "metadata": {},
   "source": [
    "- 좋은 예"
   ]
  },
  {
   "cell_type": "code",
   "execution_count": null,
   "metadata": {},
   "outputs": [],
   "source": [
    "# 들여쓰기를 통해 함수의 인자를 표시한 것을 확인할 수 있음\n",
    "foo = long_function_name(var_one, var_two,\n",
    "                         var_three, var_four)"
   ]
  },
  {
   "cell_type": "markdown",
   "metadata": {},
   "source": [
    "- 나쁜 예"
   ]
  },
  {
   "cell_type": "code",
   "execution_count": null,
   "metadata": {},
   "outputs": [],
   "source": [
    "# 함수의 전달 인자인지, 아니면 다른 변수인지 혼동할 수 있음\n",
    "foo = long_function_name(var_one, var_two,\n",
    "    var_three, var_four)"
   ]
  },
  {
   "cell_type": "markdown",
   "metadata": {},
   "source": [
    "### 함수의 여는 괄호 다음에 argument가 없는 경우 이어지는 줄에서 argument 표현의 명확성을 위해 추가 들여쓰기를 해야 한다."
   ]
  },
  {
   "cell_type": "markdown",
   "metadata": {},
   "source": [
    "- 좋은 예"
   ]
  },
  {
   "cell_type": "code",
   "execution_count": null,
   "metadata": {},
   "outputs": [],
   "source": [
    "# 들여쓰기를 통해 인자의 연속적 표현을 명확히 하고\n",
    "# 함수 내부의 다른 명령어(print문)와의 구별이 명확함\n",
    "def long_function_name(\n",
    "        var_one, var_two, var_three,\n",
    "        var_four):\n",
    "    print(var_one)"
   ]
  },
  {
   "cell_type": "markdown",
   "metadata": {},
   "source": [
    "- 나쁜 예"
   ]
  },
  {
   "cell_type": "code",
   "execution_count": null,
   "metadata": {},
   "outputs": [],
   "source": [
    "# 괄호안 인자들과 함수 내부의 명령어를 혼돈할 우려가 있음\n",
    "# 함수의 인자와 함수 내부의 첫번째 줄과 구분이 어려움\n",
    "def long_function_name(\n",
    "    var_one, var_two, var_three,\n",
    "    var_four):\n",
    "    print(var_one)"
   ]
  },
  {
   "cell_type": "markdown",
   "metadata": {},
   "source": [
    "### 함수의 호출에서 인자를 여러 줄에 걸쳐 사용해야 하는 경우"
   ]
  },
  {
   "cell_type": "markdown",
   "metadata": {},
   "source": [
    "- 좋은 예"
   ]
  },
  {
   "cell_type": "code",
   "execution_count": null,
   "metadata": {},
   "outputs": [],
   "source": [
    "foo = long_function_name(\n",
    "    var_one, var_two,\n",
    "    var_three, var_four)"
   ]
  },
  {
   "cell_type": "markdown",
   "metadata": {},
   "source": [
    "- 4칸 들여쓰기를 하지 않았지만 여전히 괜찮은 예"
   ]
  },
  {
   "cell_type": "code",
   "execution_count": null,
   "metadata": {},
   "outputs": [],
   "source": [
    "# 여러줄에 걸쳐 인자를 사용하는 경우 공백 4칸이 기본이지만\n",
    "# 아래 예시는 2칸 공백을 사용했음\n",
    "# 여전히 가독성은 확보할 수 있으므로 \n",
    "# 프로그래머의 성향에 따라 선택적으로 활용 가능\n",
    "foo = long_function_name(\n",
    "  var_one, var_two,\n",
    "  var_three, var_four)"
   ]
  },
  {
   "cell_type": "markdown",
   "metadata": {},
   "source": [
    "### if문 들여쓰기"
   ]
  },
  {
   "cell_type": "markdown",
   "metadata": {},
   "source": [
    "- if문에 사용할 내용이 길어서 여러 줄에 걸쳐서 코딩해야 하는 경우\n",
    "    - 두 글자로 구성된 if 다음에 한 칸 공백을 주고 괄호를 열어주면 다음 줄에서는 자연스럽게 4칸 공백 이후 코딩을 할 수 있습니다.\n",
    "    - 이 경우 들여쓰기 가독성이 확보될 수 있지만 한 줄짜리 if문 이후에 자동으로 4칸 들여쓰기가 생성된 것으로 혼동될 여지가 있습니다.\n",
    "- PEP 8은 이 경우 어떤 규칙을 제시하지는 않고 있지만 3가지 정도의 대안을 제시하고 있습니다. 3가지 대안 모두 가능하지만, 다른 방법이 있다면 프로그래머가 적절히 선택해서 코딩해도 무방합니다."
   ]
  },
  {
   "cell_type": "markdown",
   "metadata": {},
   "source": [
    "- 옵션 1. 여러줄에 걸친 if문에서 들여쓰기를 하지 않는 경우"
   ]
  },
  {
   "cell_type": "code",
   "execution_count": null,
   "metadata": {},
   "outputs": [],
   "source": [
    "if (this_is_one_thing and\n",
    "    that_is_another_thing):\n",
    "    do_something()"
   ]
  },
  {
   "cell_type": "markdown",
   "metadata": {},
   "source": [
    "- 옵션 2. 여러 줄에 걸친 if문이 끝난 다음에 주석을 활용하여 명시적으로 표시"
   ]
  },
  {
   "cell_type": "code",
   "execution_count": null,
   "metadata": {},
   "outputs": [],
   "source": [
    "# 주석의 경우 색깔이 다르게 표현되므로\n",
    "# if문 들여쓰기와 if문 종료후 들여쓰기 구분 가능\n",
    "if (this_is_one_thing and\n",
    "    that_is_another_thing):\n",
    "    # Since both conditions are true, we can frobnicate.\n",
    "    do_something()"
   ]
  },
  {
   "cell_type": "markdown",
   "metadata": {},
   "source": [
    "- 옵션 3. 여러 줄에 걸친 if문에 추가적 들여쓰기 적용"
   ]
  },
  {
   "cell_type": "code",
   "execution_count": null,
   "metadata": {},
   "outputs": [],
   "source": [
    "# if 문에 의한 들여쓰기와 if문 이후 실행 코드를 구분할 수 있음\n",
    "if (this_is_one_thing\n",
    "        and that_is_another_thing):\n",
    "    do_something()"
   ]
  },
  {
   "cell_type": "markdown",
   "metadata": {},
   "source": [
    "### 괄호(대괄호 [  ], 중괄호 {  }, 소괄호 (  )) 닫는 방법"
   ]
  },
  {
   "cell_type": "markdown",
   "metadata": {},
   "source": [
    "- 괄호 안의 내용을 여러줄에 걸쳐 작성한 경우\n",
    "- 괄호 내용이 끝나는 다음 줄에서\n",
    "- 괄호 내용이 시작되는 위치에서 공백 없이 괄호를 닫아도 됩니다."
   ]
  },
  {
   "cell_type": "code",
   "execution_count": null,
   "metadata": {},
   "outputs": [],
   "source": [
    "my_list = [\n",
    "    1, 2, 3,\n",
    "    4, 5, 6,\n",
    "    ]\n",
    "\n",
    "result = some_function_that_takes_arguments(\n",
    "    'a', 'b', 'c',\n",
    "    'd', 'e', 'f',\n",
    "    )"
   ]
  },
  {
   "cell_type": "markdown",
   "metadata": {},
   "source": [
    "- 옵션: 괄호 내용이 끝나는 다음 줄의 첫번째 위치에 공백 없이 괄호를 닫는 방법도 가능"
   ]
  },
  {
   "cell_type": "code",
   "execution_count": null,
   "metadata": {},
   "outputs": [],
   "source": [
    "my_list = [\n",
    "    1, 2, 3,\n",
    "    4, 5, 6,\n",
    "]\n",
    "\n",
    "result = some_function_that_takes_arguments(\n",
    "    'a', 'b', 'c',\n",
    "    'd', 'e', 'f',\n",
    ")"
   ]
  },
  {
   "cell_type": "markdown",
   "metadata": {},
   "source": [
    "## 탭(Tab) 또는 공백(space)"
   ]
  },
  {
   "cell_type": "markdown",
   "metadata": {},
   "source": [
    "- 들여쓰기는 공백(space) 사용하는 것이 좋습니다.\n",
    "    - 일반적으로 탭을 사용하면 공백 4칸이 자동으로 생성되지만\n",
    "    - 운영체제나 에디터에 따라 탭의 공백수 설정이 달라질 수 있기 때문입니다.\n",
    "- 탭을 한번이라도 사용한 코드라면 일관성 유지를 위해 모든 들여쓰기 공백은 탭으로 사용해야 합니다.\n",
    "- 파이썬은 **탭과 공백을 섞어서 들여쓰기 하는 것을 허용하지 않습니다**.\n",
    "    - 간혹 탭과 공백을 섞어써도 작동하는 것은 에디터(VS code, PyCharm 등)가 내부적으로 탭을 공백으로 자동 변환 해주기 때문입니다."
   ]
  },
  {
   "cell_type": "markdown",
   "metadata": {},
   "source": [
    "## 한 줄 최대 길이(Maximum Line Length)"
   ]
  },
  {
   "cell_type": "markdown",
   "metadata": {},
   "source": [
    "- 한 줄 최대 글자수는 79 글자 이내로 작성해야 합니다.\n",
    "- 특히, 글자가 연속적으로 계속되는 docstring 또는 주석의 경우는 72 글자로 제한해야 합니다."
   ]
  },
  {
   "cell_type": "markdown",
   "metadata": {},
   "source": [
    "- 한 줄 최대 글자수를 제한하는 이유는 다음과 같습니다.\n",
    "    - 프로그래머들이 창을 여러 개 띄워서 코딩하는 경우 긴 줄은 작업을 어렵게 한다.\n",
    "        - 코드 리뷰를 해야 하는 경우 여러 개 코딩 작업창을 띄워야 한다.\n",
    "    - 대부분의 개발 도구들은 default wrapping 설정이 되어 있습니다. Default wrapping이 작동하는 경우 아주 긴 한줄의 코드가 있는 경우 그 코드를 이해하는 것을 더욱 어렵게 합니다.\n",
    "    - Default wrapping의 경우 윈도우 폭을 80으로 설정하는 경우가 있습니다. 이런 환경에서도 가독성과 코드 분석에 혼선이 없도록 하기 위해서는 단어수를 최대 79글자로 제한해야 합니다.\n",
    "\n",
    "```{admonition} Default Wrapping이란?\n",
    "텍스트 에디터, 워드 프로세서와 같은 편집기에서 한 줄 길이가 특정 글자수 이상에 도달한 경우 엔터(Enter) 키를 사용하지 않아도 다음 줄로 커서가 이동하는 것을 말합니다.\n",
    "```"
   ]
  },
  {
   "cell_type": "markdown",
   "metadata": {},
   "source": [
    "- 파이썬 표준 라이브러리의 경우 한 줄 최대 길이는 79글자, docstring/주석에서 한 줄 최대 길이는 72 글자로 제한하고 있습니다."
   ]
  },
  {
   "cell_type": "markdown",
   "metadata": {},
   "source": [
    "- 긴 줄을 처리하는 방법으로 괄호를 사용하는 것이 있습니다.\n",
    "- 파이썬은 괄호 안에서 줄바꿈을 하는 것은 같은 줄이 계속 이어지는 것으로 해석하기 때문입니다."
   ]
  },
  {
   "cell_type": "markdown",
   "metadata": {},
   "source": [
    "- 긴 줄을 여러줄로 분할하기 위한 방법으로 백슬래시( \\\\ )를 사용할 수 있습니다.\n",
    "- 다음 예제는 암묵적 줄바꿈을 사용할 수 없는 with 구문에서 백슬래시( \\\\ )를 적용한 사례입니다. "
   ]
  },
  {
   "cell_type": "code",
   "execution_count": null,
   "metadata": {},
   "outputs": [],
   "source": [
    "with open('/path/to/some/file/you/want/to/read') as file_1, \\\n",
    "     open('/path/to/some/file/being/written', 'w') as file_2:\n",
    "    file_2.write(file_1.read())"
   ]
  },
  {
   "cell_type": "markdown",
   "metadata": {},
   "source": [
    "## 이항 연산자 (Binaray Operator) 줄바꿈은 어떻게 하지?"
   ]
  },
  {
   "cell_type": "markdown",
   "metadata": {},
   "source": [
    "### 과거의 이항 연산자 코딩 스타일"
   ]
  },
  {
   "cell_type": "markdown",
   "metadata": {},
   "source": [
    "- 과거에는 이항 연산자 다음에 줄바꿈을 하는 것이었습니다.\n",
    "- 그러나 이런 코딩 스타일은 가독성 문제가 제기되었습니다.\n",
    "    - 화면상에 있는 연산자가 여러 줄에 걸쳐 흩어지는 문제\n",
    "    - 각각의 이항 연산와 피연산자가 멀리 떨어지게 되는 문제\n"
   ]
  },
  {
   "cell_type": "markdown",
   "metadata": {},
   "source": [
    "```{admonition} 이항 연산자 (Binary Operator)?\n",
    "연산자(operator)는 사칙연산 등과 같이 어떤 계산하기 위한 기호를 의미합니다. \n",
    "\n",
    "+ (덧셈), - (뺄셈), * (곱셈), / (나눗셈) 등이 대표적입니다.\n",
    "\n",
    "피연산자(operand) 연산자가 계산을 하기 위해 필요한 데이터를 말합니다.\n",
    "\n",
    "덧셈을 하기 위해서는 2개의 피연산자가 필요합니다.\n",
    "\n",
    "두 개의 피연산자 2와 3을 더하기 연산하기 위해서는 2 + 3 으로 표현합니다.\n",
    "\n",
    "어떤 연산자는 피연산자가 하나만 필요한 경우도 있습니다.\n",
    "\n",
    "C 언어에서 ++, --, ! 등과 같은 경우입니다.\n",
    "\n",
    "```"
   ]
  },
  {
   "cell_type": "markdown",
   "metadata": {},
   "source": [
    "- 따라서 이항 연산자는 아래 예제와 같이 사용하여 가독성을 높여줍니다.\n",
    "    - 과거의 이항 연산자 컨벤션(convention)과 반대로 코딩합니다.\n",
    "    - 도널드 크누스는 그의 저서 'Computer and Typesetting Series'에서 다음과 같이 설명합니다.\n",
    "    - \"하나의 단락 내부에서 이항 연산자와 관계 연산자는 다음에 줄바꿈을 하지만, 보여주는 공식은 이항 연산자 이전에 줄바꿈을 한다\" "
   ]
  },
  {
   "cell_type": "markdown",
   "metadata": {},
   "source": [
    "- 좋은 예"
   ]
  },
  {
   "cell_type": "code",
   "execution_count": null,
   "metadata": {},
   "outputs": [],
   "source": [
    "# 이항 연산자와 피연산자를 쉽게 연관지을 수 있음\n",
    "income = (gross_wages\n",
    "          + taxable_interest\n",
    "          + (dividends - qualified_dividends)\n",
    "          - ira_deduction\n",
    "          - student_loan_interest)"
   ]
  },
  {
   "cell_type": "markdown",
   "metadata": {},
   "source": [
    "- 나쁜 예"
   ]
  },
  {
   "cell_type": "code",
   "execution_count": null,
   "metadata": {},
   "outputs": [],
   "source": [
    "# 이항 연산자와 피연산자가 멀리 떨어져 있어(줄바꿈) 가독성이 떨어짐\n",
    "income = (gross_wages +\n",
    "          taxable_interest +\n",
    "          (dividends - qualified_dividends) -\n",
    "          ira_deduction -\n",
    "          student_loan_interest)"
   ]
  },
  {
   "cell_type": "markdown",
   "metadata": {},
   "source": [
    "## 빈 줄 (Blank Lines)의 활용"
   ]
  },
  {
   "cell_type": "markdown",
   "metadata": {},
   "source": [
    "- 최상위 함수와 클래스는 2개의 빈 줄을 추가하여 가독성을 높여줍니다"
   ]
  },
  {
   "cell_type": "code",
   "execution_count": null,
   "metadata": {},
   "outputs": [],
   "source": [
    "# 최상위 함수 또는 클래스는 2개의 빈줄을 사용하여 구분\n",
    "\n",
    "\n",
    "def foo(args):\n",
    "    some code\n",
    "    some code\n",
    "\n",
    "\n",
    "class Foo():\n",
    "    some code\n",
    "    some code\n",
    "\n"
   ]
  },
  {
   "cell_type": "markdown",
   "metadata": {},
   "source": [
    "- 클래스 내부에 선언되는 메서드(method)는 한개의 빈 줄을 추가하여 가독성을 높여줍니다."
   ]
  },
  {
   "cell_type": "code",
   "execution_count": null,
   "metadata": {},
   "outputs": [],
   "source": [
    "class Foo():\n",
    "    def __init__(self):\n",
    "        pass\n",
    "    \n",
    "    # 메서드 사이에는 1개의 빈 줄로 구분\n",
    "    def foo1(self, args):\n",
    "        some code\n",
    "    \n",
    "    def foo2(self, args):\n",
    "        some code"
   ]
  },
  {
   "cell_type": "markdown",
   "metadata": {},
   "source": [
    "- 유사한 기능들을 구분하기 위해 빈 줄을 추가할 수 있습니다."
   ]
  },
  {
   "cell_type": "code",
   "execution_count": null,
   "metadata": {},
   "outputs": [],
   "source": [
    "def foo():\n",
    "    # 기능이 유사한 코드 영역\n",
    "    code_1\n",
    "    code_2 \n",
    "    code_3\n",
    "    \n",
    "    # 기능이 유사항 코드 영역\n",
    "    code_4\n",
    "    code_5\n",
    "    code_6"
   ]
  },
  {
   "cell_type": "markdown",
   "metadata": {},
   "source": [
    "- 함수 내부에서 논리적 영역의 분리를 표현하기 위해 빈 줄을 추가할 수 있습니다."
   ]
  },
  {
   "cell_type": "code",
   "execution_count": null,
   "metadata": {},
   "outputs": [],
   "source": [
    "def foo():\n",
    "    # 로직 A를 구현한 블록\n",
    "    code_1\n",
    "    code_2 \n",
    "    code_3\n",
    "    \n",
    "    # 로직 B를 구현한 블록\n",
    "    code_4\n",
    "    code_5\n",
    "    code_6"
   ]
  },
  {
   "cell_type": "markdown",
   "metadata": {},
   "source": [
    "- 일부 에디터의 경우 Control-L을 사용하면 공백문자로 인식하는 경우가 있습니다.\n",
    "- Control-L을 사용하여 논리적 영역을 구분하는 특수문자로 사용할 수 있지만, 이러한 기능을 지원하지 않는 에디터도 있을 수 있기 때문에 개인적으로 사용하지 말 것을 추천합니다."
   ]
  },
  {
   "cell_type": "markdown",
   "metadata": {},
   "source": [
    "## 소스 파일 인코딩"
   ]
  },
  {
   "cell_type": "markdown",
   "metadata": {},
   "source": [
    "- 파이썬 배포판은 UTF-8 인코딩을 기본으로 지원합니다.\n",
    "- 따라서 파이썬 소스코드에 인코딩을 별도로 선언하지 않으면 UTF-8을 기본 인코딩으로 인식합니다.\n",
    "\n",
    "\n",
    "- UTF-8이 아닌 인코딩 사용을 최대한 자제해야 합니다.\n",
    "    - UTF-8 이외의 인코딩 방식은 테스트 목적인 경우 등에 한해 제한적으로 사용하는 것이 좋습니다.\n",
    "    - ASCII 계열이 아닌 인코딩 방식은 사용을 자제해야 합니다.\n",
    "    - 사람 이름을 표현하기 위한 특수한 경우에 제한적으로 UTF-8을 사용할 수 있습니다."
   ]
  },
  {
   "cell_type": "markdown",
   "metadata": {},
   "source": [
    "```{admonition} ASCII 인코딩이란?\n",
    "ASCII는 'American Standard Code for Information Interchange'의 약자입니다. '미국 정보 교환 표준 부호'라는 정식 명칭이 있지만 개발자들은 '아스키투'라고 발음합니다. 아스키 코드는 1963년 미국 ANSI에서 표준화한 정보교환용 1바이트(7비트 부호체계)입니다. 8비트 컴퓨터에서도 활용되어 오늘날 문자 인코딩의 근간을 이루고 있습니다. 영어 키보드로 입력할 수 있는 모든 글자가 숫자로 지정(인코딩)되어 있습니다. 1 바이트면 8비트이지만, 문자 표현을 위해 7 비트만 사용하고 나머지 1개 비트는 에러 검출용으로 사용합니다. $$2^7=128$$개 문자를 표현할 수 있습니다. ASCII는 영어를 주로 표현하고 7비트만 사용하기 때문에 전세계 다양한 언어를 표현할 수 없습니다. 이를 보완하기 위해 등장한 것이 유니코드입니다.\n",
    "\n",
    "```"
   ]
  },
  {
   "cell_type": "markdown",
   "metadata": {},
   "source": [
    "```{admonition} UTF-8 인코딩이란?\n",
    "먼저 유니코드(Unicode) 개념을 알아야 합니다. 유니코드는 전 세계의 모든 문자(다국어 환경)를 컴퓨터에서 일관되게 표현되도록 설계된 표준입니다. \n",
    "\n",
    "UTF-8 (Universal Coded Chacter Set + Transformation Format - 8 bit)는 유니코드 표준을 준수하는 글자 표현 방법 중 하나입니다. 특징은 한 개의 글자를 표현하기 위해 최대 4 바이트까지 사용할 수 있습니다. 따라서 정해진 비트수로 더 많은 글자를 표현할 수 있습니다. UTF-8 방식으로 문자를 표현하면 2,097,151개 글자 표현 가능하다. 당연히 한국어도 UTF-8의 코드북 어딘가에 정의되어 있습니다.\n",
    "```"
   ]
  },
  {
   "cell_type": "markdown",
   "metadata": {},
   "source": [
    "- PEP 8에서는 가급적 영어를 이용하여 코딩할 것을 권고하고 있습니다.\n",
    "    - 영어를 사용하면 전세계 공용어를 사용하게 되므로 의사소통 및 코드분석에 효율적입니다.\n",
    "    - 게다가 혹시 있을수 있는 인코딩 문제에서 보다 자유롭게 됩니다."
   ]
  },
  {
   "cell_type": "markdown",
   "metadata": {},
   "source": [
    "## 임포트 (Imports)"
   ]
  },
  {
   "cell_type": "markdown",
   "metadata": {},
   "source": [
    "파이썬 모듈이나 패키지를 임포트 하는 것도 정해진 규칙이 있습니다."
   ]
  },
  {
   "cell_type": "markdown",
   "metadata": {},
   "source": [
    "### 개별 모듈은 가급적 서로 다른 줄에 표시해야 합니다."
   ]
  },
  {
   "cell_type": "markdown",
   "metadata": {},
   "source": [
    "- 좋은 예"
   ]
  },
  {
   "cell_type": "code",
   "execution_count": null,
   "metadata": {},
   "outputs": [],
   "source": [
    "import os\n",
    "import sys"
   ]
  },
  {
   "cell_type": "markdown",
   "metadata": {},
   "source": [
    "- 나쁜 예"
   ]
  },
  {
   "cell_type": "code",
   "execution_count": null,
   "metadata": {},
   "outputs": [],
   "source": [
    "import sys, os"
   ]
  },
  {
   "cell_type": "markdown",
   "metadata": {},
   "source": [
    "### 동일한 모듈에서 여러 개를 임포트하는 경우에는 한 줄 사용도 괜찮습니다."
   ]
  },
  {
   "cell_type": "markdown",
   "metadata": {},
   "source": [
    "- 아래와 같은 경우는 subprocess라는 하나의 모듈에서 Popen과 PIPE 라는 기능을 임포트 하는 경우입니다.\n",
    "    - 이런 경우라면 한 줄에 여러개를 임포트 하는 것도 괜찮습니다."
   ]
  },
  {
   "cell_type": "code",
   "execution_count": null,
   "metadata": {},
   "outputs": [],
   "source": [
    "from subprocess import Popen, PIPE"
   ]
  },
  {
   "cell_type": "markdown",
   "metadata": {},
   "source": [
    "### 임포트 하는 모듈의 종류에 따라 기록 순서를 다르게 합니다."
   ]
  },
  {
   "cell_type": "markdown",
   "metadata": {},
   "source": [
    "기본적으로 임포트는 소스 파일의 맨 위에 적습니다. 여러분이 임포트하는 모듈의 종류는 아래 3가지에 속하게 됩니다. 임포트 순서는 아래 순서대로 하는 것이 파이썬 컨벤션 입니다.\n",
    "\n",
    "1. Standard library: 파이썬에서 제공하는 기본 라이브러리\n",
    "2. Related third party: 다른 누군가가 만들어 놓은 라이브러리\n",
    "3. Local application/library specific: 개인 또는 조직(회사)에서 자체적으로 만든 라이브러리\n"
   ]
  },
  {
   "cell_type": "markdown",
   "metadata": {},
   "source": [
    "### 절대 경로를 통해 임포트하는 것을 추천합니다."
   ]
  },
  {
   "cell_type": "markdown",
   "metadata": {},
   "source": [
    "절대 경로로 임포트하면 가독성이 높아지고 임포트 에러를 줄일 수 있습니다. 아래와 같이 임포트 하면 됩니다."
   ]
  },
  {
   "cell_type": "code",
   "execution_count": null,
   "metadata": {},
   "outputs": [],
   "source": [
    "import mypkg.sibling\n",
    "from mypkg import sibling\n",
    "from mypkg.sibling import example"
   ]
  },
  {
   "cell_type": "markdown",
   "metadata": {},
   "source": [
    "절대 경로로 임포트하는 것을 추천하지만, 복잡한 패키지 구조를 갖는 경우 명시적 상대 경로 임포트도 가능합니다. 복잡한 코드 이름을 생략하여 가독성을 향상시킬 수 있는 경우에 사용합니다. 다음 예시를 참고하세요."
   ]
  },
  {
   "cell_type": "code",
   "execution_count": null,
   "metadata": {},
   "outputs": [],
   "source": [
    "from . import sibling\n",
    "from .sibling import example"
   ]
  },
  {
   "cell_type": "markdown",
   "metadata": {},
   "source": [
    "파이썬 표준 라이브러리의 경우는 항상 절대 경로 임포트를 합니다."
   ]
  },
  {
   "cell_type": "markdown",
   "metadata": {},
   "source": [
    "### 클래스를 포함하고 있는 모듈은 아래와 같이 임포트 합니다."
   ]
  },
  {
   "cell_type": "code",
   "execution_count": null,
   "metadata": {},
   "outputs": [],
   "source": [
    "from myclass import MyClass\n",
    "from foo.bar.yourclass import YourClass"
   ]
  },
  {
   "cell_type": "markdown",
   "metadata": {},
   "source": [
    "하지만 현재 작성하고 있는 소스 파일에서 이름 공간(namespace) 충돌이 우려된다면 다음과 같이 임포트하여 사용하는 것도 괜찬습니다."
   ]
  },
  {
   "cell_type": "code",
   "execution_count": null,
   "metadata": {},
   "outputs": [],
   "source": [
    "import myclass\n",
    "import foo.bar.yourclass"
   ]
  },
  {
   "cell_type": "markdown",
   "metadata": {},
   "source": [
    "위 예제와 같이 모듈을 임포트할 경우 \"myclass.MyClass\" 또는 \"foo.bar.yourclass.YourClass\"와 같이 사용하게 되므로 현재 소스 파일에 동일한 클래스 이름이 있더라도 충돌을 피할 수 있습니다."
   ]
  },
  {
   "cell_type": "markdown",
   "metadata": {},
   "source": [
    "###  와일드카드 임포트는 자제해야 합니다."
   ]
  },
  {
   "cell_type": "markdown",
   "metadata": {},
   "source": [
    "와일드카드 임포트는 아스테리크(*) 문자를 이용한 임포트 방법입니다. 아래 예시를 참고하세요."
   ]
  },
  {
   "cell_type": "code",
   "execution_count": null,
   "metadata": {},
   "outputs": [],
   "source": [
    "from foo import *"
   ]
  },
  {
   "cell_type": "markdown",
   "metadata": {},
   "source": [
    "위와 같이 foo 모듈을 임포트하면 foo 모듈의 모든 내부 기능을 통째로 불러오게 됩니다. 이 경우 다음과 같은 심각한 문제가 있습니다."
   ]
  },
  {
   "cell_type": "markdown",
   "metadata": {},
   "source": [
    "- 현재 작성하고 있는 소스 파일과 이름 공간(namespace) 충돌 확률이 높습니다.\n",
    "    - foo 모듈 내부에 어떤 이름을 가진 변수, 상수, 함수, 클래스가 있는지 명시적으로 파악하기 매우 어렵습니다.\n",
    "- 코드 분석하는 사람에게 애매함(ambiguous)을 주게 됩니다."
   ]
  },
  {
   "cell_type": "markdown",
   "metadata": {},
   "source": [
    "## 모듈 수준의 던더 이름 (Module Level Dunder Names)"
   ]
  },
  {
   "cell_type": "markdown",
   "metadata": {},
   "source": [
    "언더스코어( _ ) 문자가 앞뒤로 2개씩 붙어 있는 함수를 던더(Dunder, Double Underscores) 메서드라고 부릅니다. 파이썬은 모든 것이 객체로 표현되는 \"**객체지향언어**\"입니다. 파이썬 인터프리터(윈도우의 경우 python.exe)에서 객체를 생성하거나, 표현하거나, 연산을 하는데 도움을 주기 위하여 미리 만들어 놓은 함수를 던더 메서드라고 합니다. \n",
    "\n",
    "\n",
    "Built-in 함수들을 미리 만들어 놓고 객체 생성/연산 등을 할 때 마법과 같이 처리한다고 하여 'Magic Method (매직 메서드)'라는 별명이 있습니다. 파이썬 공식 문서에는 [Special Method (스페셜 메서드)](https://docs.python.org/3/reference/datamodel.html#special-method-names)라고 명시하고 있기 때문에 '스페셜 메서드'라고 부르기도 합니다.  __init__, __repr__, __new__ 등과 같은 다양한 던더 메서드가 있습니다."
   ]
  },
  {
   "cell_type": "code",
   "execution_count": 1,
   "metadata": {
    "scrolled": true
   },
   "outputs": [
    {
     "name": "stdout",
     "output_type": "stream",
     "text": [
      "['__abs__', '__add__', '__and__', '__bool__', '__ceil__', '__class__', '__delattr__', '__dir__', '__divmod__', '__doc__', '__eq__', '__float__', '__floor__', '__floordiv__', '__format__', '__ge__', '__getattribute__', '__getnewargs__', '__gt__', '__hash__', '__index__', '__init__', '__init_subclass__', '__int__', '__invert__', '__le__', '__lshift__', '__lt__', '__mod__', '__mul__', '__ne__', '__neg__', '__new__', '__or__', '__pos__', '__pow__', '__radd__', '__rand__', '__rdivmod__', '__reduce__', '__reduce_ex__', '__repr__', '__rfloordiv__', '__rlshift__', '__rmod__', '__rmul__', '__ror__', '__round__', '__rpow__', '__rrshift__', '__rshift__', '__rsub__', '__rtruediv__', '__rxor__', '__setattr__', '__sizeof__', '__str__', '__sub__', '__subclasshook__', '__truediv__', '__trunc__', '__xor__', 'bit_length', 'conjugate', 'denominator', 'from_bytes', 'imag', 'numerator', 'real', 'to_bytes']\n"
     ]
    }
   ],
   "source": [
    "a = 1\n",
    "print(dir(a))"
   ]
  },
  {
   "cell_type": "markdown",
   "metadata": {},
   "source": [
    "위 예제는 a라는 객체(변수)에 정수 1을 할당하고, 객체 a가 가지고 있는 메소드를 dir() 함수를 이용하여 출력한 것입니다. 객체 a 역시 다양한 던더 메서드를 가지고 있는 것을 확인할 수 있습니다. 프로그래머가 직접 만들지 않았지만 마법처럼 자동으로 만들어 졌습니다."
   ]
  },
  {
   "cell_type": "markdown",
   "metadata": {},
   "source": [
    "던더 메서드 역시 코딩 스타일이 존재합니다. "
   ]
  },
  {
   "cell_type": "markdown",
   "metadata": {},
   "source": [
    "프로그래머가 던더 메서드를 작성할 경우 임포트(import)를 선언하기 이후에 작성합니다. 파이썬에서 docstring은 반드시 모듈의 맨 앞에 나와야 하므로 docstring이 있다면 docstring과 import 사이에 와야 합니다. 다만 __future__ 모듈을 임포트하는 경우에는 from __future__ import 구문 다음에 나와야 합니다."
   ]
  },
  {
   "cell_type": "markdown",
   "metadata": {},
   "source": [
    "```{admonition} __future__ 모듈이란?\n",
    "파이썬은 다양한 built-in 기능들을 업그레이드 하면서 진화해 왔습니다. 'Python 2.xx'로 표현되는 2세대 파이썬과 'Python 3.xx'로 알려진 3세대 파이썬이 있습니다. 지속적인 성능개량을 하다 보니 2세대 파이썬에 정의된 built-in 기능들이 3세대 버전에서는 작동하지 않는 경우가 생겼습니다. 어떤 상황에서는 구세대 파이썬을 사용해야 하는 경우도 있습니다(구 버전의 인공지능 프레임워크로 개발했거나 개발 환경이 구세대에 최적화되어 있는 경우 등등). 이 경우 구세대 파이썬에서 최신 파이썬 기능을 사용하고자 할 경우에 사용하는 것이 __future__ 모듈입니다.\n",
    "\n",
    "\n",
    "예를 들어 Python 2.7 개발환경에서 다음과 같이 코딩한 경우\n",
    "\n",
    "\n",
    "from __future__ import print_function\n",
    "\n",
    "\n",
    "Python 3.xx에서 사용하는 기능을 사용할 수 있습니다.\n",
    "\n",
    "\n",
    "- Python 2 Style: print \"hello world\" \n",
    "- Python 3 Style: print(\"hello world\")\n",
    "\n",
    "\n",
    "```"
   ]
  },
  {
   "cell_type": "markdown",
   "metadata": {},
   "source": [
    "위 상황을 반영한 던더 사용 예제는 다음과 같습니다."
   ]
  },
  {
   "cell_type": "code",
   "execution_count": null,
   "metadata": {},
   "outputs": [],
   "source": [
    "\"\"\"This is the example module.\n",
    "\n",
    "docstring 내용 작성\n",
    "\"\"\"\n",
    "\n",
    "from __future__ import barry_as_FLUFL\n",
    "\n",
    "__all__ = ['a', 'b', 'c']\n",
    "__version__ = '0.1'\n",
    "__author__ = 'Cardinal Biggles'\n",
    "\n",
    "import os\n",
    "import sys"
   ]
  },
  {
   "cell_type": "markdown",
   "metadata": {},
   "source": [
    "---"
   ]
  }
 ],
 "metadata": {
  "interpreter": {
   "hash": "5eb840e64f51ccfda80b46a1f1ba2ca91909d6b13865d3114cc85b50831531fb"
  },
  "kernelspec": {
   "display_name": "Python 3",
   "language": "python",
   "name": "python3"
  },
  "language_info": {
   "codemirror_mode": {
    "name": "ipython",
    "version": 3
   },
   "file_extension": ".py",
   "mimetype": "text/x-python",
   "name": "python",
   "nbconvert_exporter": "python",
   "pygments_lexer": "ipython3",
   "version": "3.7.10"
  }
 },
 "nbformat": 4,
 "nbformat_minor": 2
}
