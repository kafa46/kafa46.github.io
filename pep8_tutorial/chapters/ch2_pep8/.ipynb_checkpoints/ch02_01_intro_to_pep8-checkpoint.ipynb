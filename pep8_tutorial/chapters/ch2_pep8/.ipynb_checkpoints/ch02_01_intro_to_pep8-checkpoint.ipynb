{
 "cells": [
  {
   "cell_type": "markdown",
   "metadata": {},
   "source": [
    "# PEP 8 소개 (Introduction to PEP 8)"
   ]
  },
  {
   "cell_type": "markdown",
   "metadata": {},
   "source": [
    "\n",
    "```{figure} ../../imgs/pep8_overview_table.jpg\n",
    "---\n",
    "width: 350px\n",
    "align: center\n",
    "name: pep8Table\n",
    "---\n",
    "PEP 8 정리한 표\n",
    "```"
   ]
  },
  {
   "cell_type": "markdown",
   "metadata": {},
   "source": [
    "```{note}\n",
    "PEP 8은 아래 링크를 참고하세요.\n",
    "\n",
    "**PEP 1**: https://www.python.org/dev/peps/pep-0008\n",
    "```"
   ]
  },
  {
   "cell_type": "markdown",
   "metadata": {},
   "source": [
    "- PEP 8은 main 파이썬 배포판에서 표준 라이브러리를 준수하는 파이썬 코드에 대한 컨벤션(convention)을 제공합니다.\n",
    "- 파이썬은 C 언어로 만들어졌기 때문에 파이썬을 만든 C 언어로 코딩하는 스타일은 PEP 7을 참고할 수 있습니다.\n",
    "    - C 언어는 파이썬과 친구 관계지만, 이번 튜토리얼에서는 C 언어 관련 사항은 생략합니다.\n",
    "    - 관심있는 사람은 아래 링크를 참고하기 바랍니다.\n",
    "    - PEP 7: https://www.python.org/dev/peps/pep-0007\n",
    "\n",
    "```{admonition} 컨벤션(convention)\n",
    "많은 개발자들이 관용적으로 사용하여, 하나의 스타일로 정형화된 코딩 방식\n",
    "```"
   ]
  },
  {
   "cell_type": "markdown",
   "metadata": {},
   "source": [
    "- PEP 8은 귀도 반 로섬에 의해 최초로 제안된 Docstring Convention ([PEP 257](https://www.python.org/dev/peps/pep-0257/))과 [Barry's GNU Mailman style guide](http://barry.warsaw.us/software/STYLEGUIDE.txt)의 일부가 반영되어 작성된 코딩 스타일 가이드입니다."
   ]
  },
  {
   "cell_type": "markdown",
   "metadata": {},
   "source": [
    "- 파이썬 코딩 스타일은 추가적인 컨벤션(convention)이 식별될 때마다 지속적으로 진화하고 있습니다.\n",
    "- 파이썬 과거 버전은 언어 자체의 변화가 있는 경우 더 이상 반영하지 않습니다.\n",
    "    - 종결처리(obsolete) 예시\n",
    "        - Python 2 에 있고, Python 3에 반영되지 않는 경우\n",
    "        - Pyton 3가 진화하면서 없어지는 문법들"
   ]
  },
  {
   "cell_type": "markdown",
   "metadata": {},
   "source": [
    "- 대부분의 프로그래밍 언어는 그 자신만의 코딩 스타일을 가지고 있습니다.\n",
    "- 다른 언어와 파이썬 사이에서 코딩 스타일의 충돌(conflicts)가 존재하는 경우는 해당 프로젝트에서 정한 규칙을 우선적으로 사용하는 것이 좋습니다."
   ]
  }
 ],
 "metadata": {
  "kernelspec": {
   "display_name": "Python 3",
   "language": "python",
   "name": "python3"
  },
  "language_info": {
   "codemirror_mode": {
    "name": "ipython",
    "version": 3
   },
   "file_extension": ".py",
   "mimetype": "text/x-python",
   "name": "python",
   "nbconvert_exporter": "python",
   "pygments_lexer": "ipython3",
   "version": "3.8.5"
  }
 },
 "nbformat": 4,
 "nbformat_minor": 2
}
