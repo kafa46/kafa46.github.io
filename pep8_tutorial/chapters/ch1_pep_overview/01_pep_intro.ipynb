{
 "cells": [
  {
   "cell_type": "markdown",
   "metadata": {},
   "source": [
    "# Python Enhancement Proposal (PEP)"
   ]
  },
  {
   "cell_type": "markdown",
   "metadata": {},
   "source": [
    "## PEP가 도대체 뭔가요?"
   ]
  },
  {
   "cell_type": "markdown",
   "metadata": {},
   "source": [
    "- PEP는 'Python Enhancement Proposal' 이라는 말 그대로 파이썬 개선하기 위한 제안서입니다. \n",
    "- 파이썬 사용자들에게 정보를 제공하는 설계 문서로 볼 수도 있고, 파이썬의 작동 또는 환경에 대한 새로운 특징(기능)을 표현하는 문서로 볼 수도 있습니다.\n",
    "- PEP는 파이썬의 특징이나 원리를 간결하게 표현한 기술 문서(스펙)입니다."
   ]
  },
  {
   "cell_type": "markdown",
   "metadata": {},
   "source": [
    "- PEP는 파이썬에 새로운 기능이나 특징을 제안하는 가장 중심적인 매커니즘(작동방식)입니다.\n",
    "- PEP를 통해 파이썬 커뮤니티의 이슈를 수집하고, 파이썬이 나아갈 미래의 방향을 결정합니다.\n",
    "- PEP의 저자(작성자)는 파이썬 커뮤니티로부터 동의를 이끌어 내고 관련 의견을 문서화할 책임을 갖게 됩니다.\n",
    "- PEP는 버전 번호가 부여된 텍스트 파일 형태로 유지되기 때문에 변경 이력을 기록하고 관리해야 합니다."
   ]
  },
  {
   "cell_type": "markdown",
   "metadata": {},
   "source": [
    "```{note}\n",
    "본 튜토리얼은 PEP 1을 참고로 작성되었습니다.\n",
    "\n",
    "**PEP 1**: https://www.python.org/dev/peps/pep-0001/\n",
    "```"
   ]
  },
  {
   "cell_type": "markdown",
   "metadata": {},
   "source": [
    "## PEP를 보는 사람들은 누가인가요?"
   ]
  },
  {
   "cell_type": "markdown",
   "metadata": {},
   "source": [
    "- 당연히 PEP를 보는 사람은 모든 파이썬 개발자입니다.^^\n",
    "\n",
    "---\n",
    "\n",
    "- 하지만 PEP는 전문 지식과 경험이 필요하므로 PEP 제정, 결정, 유지보수와 관련된 인원들은 별도로 존재합니다.\n",
    "- PEP를 보는 사람들은 CPython (우리가 일반적으로 사용하는 파이썬) 인터프리터의 핵심 기능을 개발하는 사람들과 그 중에서 선발된 운영위원회 멤버들 입니다.\n",
    "- 파이썬 언어 스펙을 이용하여 다른 기술 문서(스펙)을 만드는 개발자도 포함됩니다.\n",
    "- 하지만, 위에서 설명한 것과 다른 성격의 파이썬 커뮤니티라도 희망하는 API 사용에 대한 의견을 제시하려는 경우에 해당하는 사람들도 PEP의 독자가 될 수 있습니다.\n",
    "- 또한 다수 프로젝트에 걸친 협업이 필요한 복잡한 문제에 대한 관리가 필요한 경우에도 PEP 프로세스를 활용할 수 있습니다.\n",
    "\n",
    "---\n",
    "아래에 PEP와 관련된 이해관계자(Stakeholders)를 별도로 정리하였습니다.\n"
   ]
  },
  {
   "cell_type": "markdown",
   "metadata": {},
   "source": [
    "### 파이썬 운영위원회 (Python's Steering Council)"
   ]
  },
  {
   "cell_type": "markdown",
   "metadata": {},
   "source": [
    "- 파이썬 운영위원회는 다양한 표현을 사용합니다. \n",
    "- 현재는 'Python's Steering Council' 이라는 표현을 씁니다.\n",
    "- 파이썬 운영위원회의 역할은 PEP를 최종적으로 **선택할지** 또는 **기각할지**를 결정합니다.\n",
    "- PEP와 관련해서 가장 강력한 권한입니다.\n",
    "- 운영위원회 멤버를 선출하는 절차는 PEP 13을 따릅니다.\n",
    "\n",
    "\n",
    "```{admonition} PEP 13 - Python Language Governance\n",
    "PEP 13: https://www.python.org/dev/peps/pep-0013/\n",
    "\n",
    "[PEP 13](https://www.python.org/dev/peps/pep-0013/)은 파이썬 언어를 통치(종합관리)하기 위한 일련의 절차를 정의하고 있습니다.\n",
    "\n",
    "운영위원회 관련 선발, 투표 결과, 이력관리 등 을 포함하고 있으며,\n",
    "\n",
    "현재 운영위원회 투표자, 선발자, 투표방식 등은 [PEP 8012](https://www.python.org/dev/peps/pep-8102 \"PEP 8012\")에 명시되어 있으니 관심있는 사람은 내용을 확인해 보기 바랍니다.\n",
    "```"
   ]
  },
  {
   "cell_type": "markdown",
   "metadata": {},
   "source": [
    "### 파이썬 핵심 개발자 (Python's Core Developers)"
   ]
  },
  {
   "cell_type": "markdown",
   "metadata": {},
   "source": [
    "- 파이썬 핵심 개발자 \"core developers\"는 [PEP 8012](https://www.python.org/dev/peps/pep-8102 \"PEP 8012\")에 따라 선출되어 현재 활동중인 멤버를 의미합니다."
   ]
  },
  {
   "cell_type": "markdown",
   "metadata": {},
   "source": [
    "### 파이썬 BDFL"
   ]
  },
  {
   "cell_type": "markdown",
   "metadata": {},
   "source": [
    "- [PEP 1](https://www.python.org/dev/peps/pep-8102 \"PEP 1\")에 명시되어 있는 DBFL은 예전에는 'BDFL-Delegate'라는 용어를 썼습니다.\n",
    "- BDFL은 'Benevolent Dictator for Life (자비로운 종신 독재자)'라는 의미입니다.\n",
    "\n",
    "```{admonition} BDLF (자비로운 종신 독재자란)?\n",
    "오픈 소스 소프트웨어를 창시하거나 개발한 리더에게 부여되는 호칭\n",
    "\n",
    "주로 커뮤니티 내에서 논쟁이 있을 경우 최종 결론을 내려주는 사람\n",
    "\n",
    "해당 프로젝트의 창시자인 경우가 대부분임\n",
    "\n",
    "Online Wiki: [Benevolent dictator for life (영문)](https://en.wikipedia.org/wiki/Benevolent_dictator_for_life \"Benevolent dictator for life\"), [BDFL (한글)](https://ko.wikipedia.org/wiki/%EC%9E%90%EB%B9%84%EB%A1%9C%EC%9A%B4_%EC%A2%85%EC%8B%A0%EB%8F%85%EC%9E%AC%EC%9E%90 \"자비로운 종신독재자\")\n",
    "```\n",
    "\n"
   ]
  },
  {
   "cell_type": "markdown",
   "metadata": {},
   "source": [
    "- 파이썬의 BDFL은 과거 귀도 반 로섬이었지만 2018년 7월 12일 부로 사임하였음\n",
    "\n",
    "\n",
    "```{admonition} **귀도 반 로섬: 파이썬 창시자**\n",
    "\n",
    "1995년 파이썬을 창시한 귀도 반 로섬을 가리키는 호칭으로 처음 **BDFL**이 사용됨\n",
    "\n",
    "파이썬 창시 이후 2018년 7월까지 BDFL로 지내다 사임하였으나, 2019년에 다시 투표로 추대되었으나 2020 선거에서 후보로 추대되는 것에 스스로 사임하였음.\n",
    "\n",
    "```{image} https://upload.wikimedia.org/wikipedia/commons/thumb/e/e2/Guido-portrait-2014-drc.jpg/220px-Guido-portrait-2014-drc.jpg\n",
    ":alt: 귀도 반 로섬\n",
    ":class: bg-primary mb-1\n",
    ":width: 500px\n",
    ":align: left\n",
    "```"
   ]
  },
  {
   "cell_type": "markdown",
   "metadata": {},
   "source": [
    "\n",
    "- 현재 활동중인 '파이썬 핵심 개발자 (Python's core developers)'들에 PEP 13에 투표로 선출된 인원들을 **PEP-Delegate (PEP 대리인)** 이라고 부릅니다.\n",
    "- 현재는 **PEP-Delegate**와 **BDFL-Delegate**는 같은 의미입니다.\n"
   ]
  },
  {
   "cell_type": "markdown",
   "metadata": {},
   "source": [
    "### PEP 편집자 (Editors)"
   ]
  },
  {
   "cell_type": "markdown",
   "metadata": {},
   "source": [
    "- PEP 편집자는 PEP 작업 흐름을 관리하고 책임지는 사람입니다.\n",
    "- 작업 흐름의 예로는 다음과 같은 것이 있습니다.\n",
    "    - PEP 번호 부여\n",
    "    - PEP 관리상태(내용 변경 등) 관리 등\n",
    "\n",
    "```{admonition} PEP workflow & process\n",
    "\n",
    "```{image} https://s3.dualstack.us-east-2.amazonaws.com/pythondotorg-assets/media/dev/peps/pep-0001/pep-0001-process_flow.png\n",
    ":class: bg-primary mb-1\n",
    ":width: 700px\n",
    ":align: left\n",
    "```\n",
    "\n"
   ]
  },
  {
   "cell_type": "markdown",
   "metadata": {},
   "source": []
  },
  {
   "cell_type": "markdown",
   "metadata": {},
   "source": [
    "## PEP에도 종류가 있나요?"
   ]
  },
  {
   "cell_type": "markdown",
   "metadata": {},
   "source": [
    "PEP는 파이썬 성능 개선에 필요한 모든 사항들을 포함하고 있기 때문에 다양한 형태의 문서가 있습니다. \n",
    "\n",
    "크게 문서는 세가지 분야로 정리할 수 있습니다."
   ]
  },
  {
   "cell_type": "markdown",
   "metadata": {},
   "source": [
    "### Standard Track PEP (표준 트랙 PEP)"
   ]
  },
  {
   "cell_type": "markdown",
   "metadata": {},
   "source": [
    "- Standard Track은 파이썬의 새로운 기능이나 그 기능을 구현한 것을 다룹니다.\n",
    "- 현재 파이썬 표준에는 포함되어 있지 않지만, 향후 추가될 경우 기존 표준 파이썬 라이브러리와의 연동에 관한 사항을 기술하는 문서(PEP)입니다."
   ]
  },
  {
   "cell_type": "markdown",
   "metadata": {},
   "source": [
    "### Informational PEP (정보 제공 PEP)"
   ]
  },
  {
   "cell_type": "markdown",
   "metadata": {},
   "source": [
    "- 파이썬 디자인 이슈, 일반적인 가이드라인을 파이썬 커뮤니티에 제공합니다.\n",
    "- 새로운 기능에 대하여 논의하지는 않습니다.\n",
    "- 파이썬 커뮤니티 멤버들의 동의나 추천을 받을 필요는 없습니다.\n",
    "- 따라서 파이썬을 이용해 구현하려는 사람들은 Informational PEP의 권고 사항을 반드시 따를 필요는 없습니다."
   ]
  },
  {
   "cell_type": "markdown",
   "metadata": {},
   "source": [
    "### Process PEP (절차 PEP)"
   ]
  },
  {
   "cell_type": "markdown",
   "metadata": {},
   "source": [
    "- 파이썬과 관련한 일련의 절차를 제공합니다.\n",
    "    - 파이썬과 관련된 변경사항을 어떻게 처리할 것인지,\n",
    "    - 어떻게 PEP를 처리할 것인지,\n",
    "    - Standard Track PEP에 관한 내용 중 기능 이외의 것들을 어떻게 처리할 것인지\n",
    "\n",
    "\n",
    "- 코딩 기반 구현에 직접적으로 해당하지 않지만 구현에 관련된 사항이 여기에 포함될 수 있습니다.\n",
    "- Process PEP는 가끔씩 커뮤니티의 동의나 추천이 필요합니다. (Informational PEP와 차이점)\n",
    "- 파이썬 사용자들은 Process PEP를 무시하면 안됩니다. (Informational PEP와 차이점)\n",
    "- 주로 절차(procedures), 가이드라인(guidlines), 의사결정 과정의 변경, 파이썬 개발에 반영되어 있는 툴(tools) 또는 개발환경을 변경하려는 내용이 Process PEP에 해당됩니다.\n",
    "- meta-PEP의 경우도 Process PEP에 해당합니다.\n",
    "\n",
    "\n",
    "```{admonition} meta-PEP란?\n",
    "PEP 프로세스 자체에 대한 PEP를 의미합니다.\n",
    "```\n"
   ]
  },
  {
   "cell_type": "markdown",
   "metadata": {},
   "source": [
    "## PEP도 종류가 많은데요... 내가 원하는 것은 어디에서 찾나요?"
   ]
  },
  {
   "cell_type": "markdown",
   "metadata": {},
   "source": [
    "- PEP 목록은 [PEP 0](https://www.python.org/dev/peps/ 'PEP 0')에 체계적으로 정리되어 있습니다.\n",
    "- PEP 0: Index of Python Enhancement Proposals (PEPs)\n",
    "- 아래 링크를 클릭하여 어떤 종류의 PEP가 있는지 직접 확인해 보세요.\n",
    "\n",
    "\n",
    "PEP 0 Link: https://www.python.org/dev/peps "
   ]
  },
  {
   "cell_type": "markdown",
   "metadata": {},
   "source": [
    "```{admonition} PEP overview를 마치며\n",
    "이제 PEP의 개념과 구조에 대한 공부를 마쳤습니다.\n",
    "본격적으로 우리가 목표로 하는 **'PEP 8. Style Guide for Python Code'**에 대하여 공부해 보도록 하겠습니다.\n",
    "```"
   ]
  },
  {
   "cell_type": "markdown",
   "metadata": {},
   "source": []
  }
 ],
 "metadata": {
  "kernelspec": {
   "display_name": "Python 3",
   "language": "python",
   "name": "python3"
  },
  "language_info": {
   "codemirror_mode": {
    "name": "ipython",
    "version": 3
   },
   "file_extension": ".py",
   "mimetype": "text/x-python",
   "name": "python",
   "nbconvert_exporter": "python",
   "pygments_lexer": "ipython3",
   "version": "3.7.10"
  }
 },
 "nbformat": 4,
 "nbformat_minor": 2
}
